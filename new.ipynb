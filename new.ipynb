{
 "cells": [
  {
   "cell_type": "markdown",
   "id": "8beb9d1d-dee7-4fd8-89ad-b0f2f271be95",
   "metadata": {},
   "source": [
    "Ёбаные 0.8227 / 0.8233"
   ]
  },
  {
   "cell_type": "code",
   "execution_count": 1,
   "id": "8dd61847-b601-4712-a864-2aca5f52e4cd",
   "metadata": {},
   "outputs": [],
   "source": [
    "import polars as pl\n",
    "import pandas as pd\n",
    "import numpy as np\n",
    "import catboost\n",
    "from catboost import CatBoostClassifier, CatBoostRegressor, Pool\n",
    "import lightgbm as lgb\n",
    "import os\n",
    "import optuna\n",
    "from datetime import date, timedelta\n",
    "from my_utils import embedding_plotter\n",
    "from sklearn.preprocessing import StandardScaler\n",
    "import umap.umap_ as umap\n",
    "import shap\n",
    "from sklearn.preprocessing import PolynomialFeatures\n",
    "from sklearn.cluster import KMeans\n",
    "import hdbscan\n",
    "import matplotlib.pyplot as plt\n",
    "from tqdm.notebook import tqdm\n",
    "import faiss"
   ]
  },
  {
   "cell_type": "code",
   "execution_count": 2,
   "id": "f9c09b33",
   "metadata": {},
   "outputs": [],
   "source": [
    "test_start_date = date(2024, 8, 1)\n",
    "val_start_date = date(2024, 7, 1)\n",
    "val_end_date = date(2024, 7, 31)\n",
    "train_end_date = date(2024, 6, 30)\n",
    "data_path = './contest_1_data'"
   ]
  },
  {
   "cell_type": "markdown",
   "id": "18d547e5",
   "metadata": {},
   "source": [
    "# Read data"
   ]
  },
  {
   "cell_type": "code",
   "execution_count": 3,
   "id": "501ed599",
   "metadata": {},
   "outputs": [],
   "source": [
    "actions_history = pl.read_parquet(os.path.join(data_path, 'actions_history'))\n",
    "search_history = pl.read_parquet(os.path.join(data_path, 'search_history'))\n",
    "product_information = pl.read_csv(os.path.join(data_path, 'product_information.csv'))\n",
    "\n",
    "product_information = product_information.with_columns(\n",
    "    ((pl.col(\"price\") - pl.col(\"discount_price\")) / pl.col(\"price\")).alias(\n",
    "        \"relative_discount\"\n",
    "    )\n",
    ")"
   ]
  },
  {
   "cell_type": "code",
   "execution_count": 4,
   "id": "1c4fefc2",
   "metadata": {},
   "outputs": [
    {
     "data": {
      "text/html": [
       "<div><style>\n",
       ".dataframe > thead > tr,\n",
       ".dataframe > tbody > tr {\n",
       "  text-align: right;\n",
       "  white-space: pre-wrap;\n",
       "}\n",
       "</style>\n",
       "<small>shape: (6, 2)</small><table border=\"1\" class=\"dataframe\"><thead><tr><th>action_type</th><th>action_type_id</th></tr><tr><td>str</td><td>i64</td></tr></thead><tbody><tr><td>&quot;click&quot;</td><td>1</td></tr><tr><td>&quot;favorite&quot;</td><td>2</td></tr><tr><td>&quot;order&quot;</td><td>3</td></tr><tr><td>&quot;search&quot;</td><td>4</td></tr><tr><td>&quot;to_cart&quot;</td><td>5</td></tr><tr><td>&quot;view&quot;</td><td>6</td></tr></tbody></table></div>"
      ],
      "text/plain": [
       "shape: (6, 2)\n",
       "┌─────────────┬────────────────┐\n",
       "│ action_type ┆ action_type_id │\n",
       "│ ---         ┆ ---            │\n",
       "│ str         ┆ i64            │\n",
       "╞═════════════╪════════════════╡\n",
       "│ click       ┆ 1              │\n",
       "│ favorite    ┆ 2              │\n",
       "│ order       ┆ 3              │\n",
       "│ search      ┆ 4              │\n",
       "│ to_cart     ┆ 5              │\n",
       "│ view        ┆ 6              │\n",
       "└─────────────┴────────────────┘"
      ]
     },
     "execution_count": 4,
     "metadata": {},
     "output_type": "execute_result"
    }
   ],
   "source": [
    "pl.read_csv(os.path.join(data_path, 'action_type_info.csv'))"
   ]
  },
  {
   "cell_type": "code",
   "execution_count": 5,
   "id": "5d6028b1",
   "metadata": {},
   "outputs": [],
   "source": [
    "val_target = (\n",
    "    actions_history\n",
    "    .filter(pl.col('timestamp').dt.date() >= val_start_date)\n",
    "    .filter(pl.col('timestamp').dt.date() <= val_end_date)\n",
    "    .select('user_id', (pl.col('action_type_id') == 3).alias('has_order'))\n",
    "    .group_by('user_id')\n",
    "    .agg(pl.max('has_order').cast(pl.Int32).alias('target'))\n",
    ")"
   ]
  },
  {
   "cell_type": "code",
   "execution_count": 6,
   "id": "1667f5bf",
   "metadata": {},
   "outputs": [
    {
     "data": {
      "text/html": [
       "<div><style>\n",
       ".dataframe > thead > tr,\n",
       ".dataframe > tbody > tr {\n",
       "  text-align: right;\n",
       "  white-space: pre-wrap;\n",
       "}\n",
       "</style>\n",
       "<small>shape: (2, 2)</small><table border=\"1\" class=\"dataframe\"><thead><tr><th>target</th><th>user_id</th></tr><tr><td>i32</td><td>u32</td></tr></thead><tbody><tr><td>0</td><td>1227381</td></tr><tr><td>1</td><td>647575</td></tr></tbody></table></div>"
      ],
      "text/plain": [
       "shape: (2, 2)\n",
       "┌────────┬─────────┐\n",
       "│ target ┆ user_id │\n",
       "│ ---    ┆ ---     │\n",
       "│ i32    ┆ u32     │\n",
       "╞════════╪═════════╡\n",
       "│ 0      ┆ 1227381 │\n",
       "│ 1      ┆ 647575  │\n",
       "└────────┴─────────┘"
      ]
     },
     "execution_count": 6,
     "metadata": {},
     "output_type": "execute_result"
    }
   ],
   "source": [
    "val_target.group_by('target').agg(pl.count('user_id'))"
   ]
  },
  {
   "cell_type": "markdown",
   "id": "ff4eb9d7",
   "metadata": {},
   "source": [
    "# Simple pipeline"
   ]
  },
  {
   "cell_type": "markdown",
   "id": "2f6da3e2",
   "metadata": {},
   "source": [
    "## Feats"
   ]
  },
  {
   "cell_type": "code",
   "execution_count": 7,
   "id": "ca04d6c0",
   "metadata": {},
   "outputs": [
    {
     "data": {
      "application/vnd.jupyter.widget-view+json": {
       "model_id": "b20af0b3ad274049a5b27aa5b2f434c3",
       "version_major": 2,
       "version_minor": 0
      },
      "text/plain": [
       "  0%|          | 0/4 [00:00<?, ?it/s]"
      ]
     },
     "metadata": {},
     "output_type": "display_data"
    }
   ],
   "source": [
    "actions_aggs = {}\n",
    "actions_id_to_suf = {\n",
    "    1: \"click\",\n",
    "    2: \"favorite\",\n",
    "    3: \"order\",\n",
    "    5: \"to_cart\",\n",
    "}\n",
    "for id_, suf in tqdm(actions_id_to_suf.items()):\n",
    "    aggs = (\n",
    "        actions_history\n",
    "        .filter(pl.col('timestamp').dt.date() <= train_end_date)\n",
    "        .filter(pl.col('timestamp').dt.date() >= train_end_date - timedelta(days=30 * 4))\n",
    "        .filter(pl.col('action_type_id') == id_)\n",
    "        .join(\n",
    "            product_information\n",
    "            .select('product_id', 'discount_price', 'relative_discount'),\n",
    "            on='product_id',\n",
    "        )\n",
    "        .group_by('user_id')\n",
    "        .agg(\n",
    "            pl.count('product_id').cast(pl.Int32).alias(f'num_products_{suf}'),\n",
    "            pl.sum('discount_price').cast(pl.Float32).alias(f'sum_discount_price_{suf}'),\n",
    "            pl.max('discount_price').cast(pl.Float32).alias(f'max_discount_price_{suf}'),\n",
    "            pl.mean('relative_discount').cast(pl.Float32).alias(f'mean_relative_discount_{suf}'), # new\n",
    "            pl.max('relative_discount').cast(pl.Float32).alias(f'max_relative_discount_{suf}'), # new\n",
    "            pl.max('timestamp').alias(f'last_{suf}_time'),\n",
    "            pl.min('timestamp').alias(f'first_{suf}_time'),\n",
    "        )\n",
    "        .with_columns([\n",
    "            (pl.lit(val_start_date) - pl.col(f'last_{suf}_time'))\n",
    "            .dt.total_days()\n",
    "            .cast(pl.Int32)\n",
    "            .alias(f'days_since_last_{suf}'),\n",
    "            \n",
    "            (pl.lit(val_start_date) - pl.col(f'first_{suf}_time'))\n",
    "            .dt.total_days()\n",
    "            .cast(pl.Int32)\n",
    "            .alias(f'days_since_first_{suf}'),\n",
    "        ])\n",
    "        .select(\n",
    "            'user_id',\n",
    "            f'num_products_{suf}',\n",
    "            f'sum_discount_price_{suf}',\n",
    "            f'max_discount_price_{suf}',\n",
    "            f'mean_relative_discount_{suf}',\n",
    "            f'max_relative_discount_{suf}',\n",
    "            f'days_since_last_{suf}',\n",
    "            f'days_since_first_{suf}',\n",
    "        )\n",
    "    )\n",
    "    actions_aggs[id_] = aggs"
   ]
  },
  {
   "cell_type": "code",
   "execution_count": 8,
   "id": "cd88f106",
   "metadata": {},
   "outputs": [],
   "source": [
    "# search_aggs\n",
    "id_ = 4\n",
    "suf = 'search'\n",
    "actions_aggs[id_] = (\n",
    "    search_history\n",
    "    .filter(pl.col('action_type_id') == id_)\n",
    "    .filter(pl.col('timestamp').dt.date() <= train_end_date)\n",
    "    .filter(pl.col('timestamp').dt.date() >= train_end_date - timedelta(days=30 * 4))\n",
    "    .group_by('user_id')\n",
    "    .agg(\n",
    "        pl.count('search_query').cast(pl.Int32).alias(f'num_{suf}'),\n",
    "        pl.max('timestamp').alias(f'last_{suf}_time'),\n",
    "        pl.min('timestamp').alias(f'first_{suf}_time'),\n",
    "    )\n",
    "    .with_columns([\n",
    "        (pl.lit(val_start_date) - pl.col(f'last_{suf}_time'))\n",
    "        .dt.total_days()\n",
    "        .cast(pl.Int32)\n",
    "        .alias(f'days_since_last_{suf}'),\n",
    "\n",
    "        (pl.lit(val_start_date) - pl.col(f'first_{suf}_time'))\n",
    "        .dt.total_days()\n",
    "        .cast(pl.Int32)\n",
    "        .alias(f'days_since_first_{suf}'),\n",
    "    ])\n",
    "    .select(\n",
    "        'user_id',\n",
    "        f'num_{suf}',\n",
    "        f'days_since_last_{suf}',\n",
    "        f'days_since_first_{suf}',\n",
    "    )\n",
    ")"
   ]
  },
  {
   "cell_type": "code",
   "execution_count": 9,
   "id": "82b7d027",
   "metadata": {},
   "outputs": [
    {
     "data": {
      "text/plain": [
       "dict_keys([1, 2, 3, 5, 4])"
      ]
     },
     "execution_count": 9,
     "metadata": {},
     "output_type": "execute_result"
    }
   ],
   "source": [
    "actions_aggs.keys()"
   ]
  },
  {
   "cell_type": "code",
   "execution_count": 10,
   "id": "fe1726c6",
   "metadata": {},
   "outputs": [],
   "source": [
    "df = val_target\n",
    "for _, actions_aggs_df in actions_aggs.items():\n",
    "    df = (\n",
    "        df\n",
    "        .join(actions_aggs_df, on='user_id', how='left')\n",
    "    )"
   ]
  },
  {
   "cell_type": "code",
   "execution_count": 11,
   "id": "37ea1e99",
   "metadata": {},
   "outputs": [
    {
     "data": {
      "text/html": [
       "<div><style>\n",
       ".dataframe > thead > tr,\n",
       ".dataframe > tbody > tr {\n",
       "  text-align: right;\n",
       "  white-space: pre-wrap;\n",
       "}\n",
       "</style>\n",
       "<small>shape: (1_874_956, 33)</small><table border=\"1\" class=\"dataframe\"><thead><tr><th>user_id</th><th>target</th><th>num_products_click</th><th>sum_discount_price_click</th><th>max_discount_price_click</th><th>mean_relative_discount_click</th><th>max_relative_discount_click</th><th>days_since_last_click</th><th>days_since_first_click</th><th>num_products_favorite</th><th>sum_discount_price_favorite</th><th>max_discount_price_favorite</th><th>mean_relative_discount_favorite</th><th>max_relative_discount_favorite</th><th>days_since_last_favorite</th><th>days_since_first_favorite</th><th>num_products_order</th><th>sum_discount_price_order</th><th>max_discount_price_order</th><th>mean_relative_discount_order</th><th>max_relative_discount_order</th><th>days_since_last_order</th><th>days_since_first_order</th><th>num_products_to_cart</th><th>sum_discount_price_to_cart</th><th>max_discount_price_to_cart</th><th>mean_relative_discount_to_cart</th><th>max_relative_discount_to_cart</th><th>days_since_last_to_cart</th><th>days_since_first_to_cart</th><th>num_search</th><th>days_since_last_search</th><th>days_since_first_search</th></tr><tr><td>i32</td><td>i32</td><td>i32</td><td>f32</td><td>f32</td><td>f32</td><td>f32</td><td>i32</td><td>i32</td><td>i32</td><td>f32</td><td>f32</td><td>f32</td><td>f32</td><td>i32</td><td>i32</td><td>i32</td><td>f32</td><td>f32</td><td>f32</td><td>f32</td><td>i32</td><td>i32</td><td>i32</td><td>f32</td><td>f32</td><td>f32</td><td>f32</td><td>i32</td><td>i32</td><td>i32</td><td>i32</td><td>i32</td></tr></thead><tbody><tr><td>1384102</td><td>0</td><td>null</td><td>null</td><td>null</td><td>null</td><td>null</td><td>null</td><td>null</td><td>null</td><td>null</td><td>null</td><td>null</td><td>null</td><td>null</td><td>null</td><td>null</td><td>null</td><td>null</td><td>null</td><td>null</td><td>null</td><td>null</td><td>null</td><td>null</td><td>null</td><td>null</td><td>null</td><td>null</td><td>null</td><td>null</td><td>null</td><td>null</td></tr><tr><td>9628369</td><td>0</td><td>1</td><td>426.0</td><td>426.0</td><td>0.492857</td><td>0.492857</td><td>57</td><td>57</td><td>null</td><td>null</td><td>null</td><td>null</td><td>null</td><td>null</td><td>null</td><td>null</td><td>null</td><td>null</td><td>null</td><td>null</td><td>null</td><td>null</td><td>1</td><td>426.0</td><td>426.0</td><td>0.492857</td><td>0.492857</td><td>57</td><td>57</td><td>3</td><td>57</td><td>57</td></tr><tr><td>2819812</td><td>1</td><td>null</td><td>null</td><td>null</td><td>null</td><td>null</td><td>null</td><td>null</td><td>null</td><td>null</td><td>null</td><td>null</td><td>null</td><td>null</td><td>null</td><td>null</td><td>null</td><td>null</td><td>null</td><td>null</td><td>null</td><td>null</td><td>null</td><td>null</td><td>null</td><td>null</td><td>null</td><td>null</td><td>null</td><td>1</td><td>2</td><td>2</td></tr><tr><td>1766085</td><td>0</td><td>null</td><td>null</td><td>null</td><td>null</td><td>null</td><td>null</td><td>null</td><td>null</td><td>null</td><td>null</td><td>null</td><td>null</td><td>null</td><td>null</td><td>null</td><td>null</td><td>null</td><td>null</td><td>null</td><td>null</td><td>null</td><td>null</td><td>null</td><td>null</td><td>null</td><td>null</td><td>null</td><td>null</td><td>null</td><td>null</td><td>null</td></tr><tr><td>1658950</td><td>0</td><td>null</td><td>null</td><td>null</td><td>null</td><td>null</td><td>null</td><td>null</td><td>null</td><td>null</td><td>null</td><td>null</td><td>null</td><td>null</td><td>null</td><td>null</td><td>null</td><td>null</td><td>null</td><td>null</td><td>null</td><td>null</td><td>null</td><td>null</td><td>null</td><td>null</td><td>null</td><td>null</td><td>null</td><td>null</td><td>null</td><td>null</td></tr><tr><td>&hellip;</td><td>&hellip;</td><td>&hellip;</td><td>&hellip;</td><td>&hellip;</td><td>&hellip;</td><td>&hellip;</td><td>&hellip;</td><td>&hellip;</td><td>&hellip;</td><td>&hellip;</td><td>&hellip;</td><td>&hellip;</td><td>&hellip;</td><td>&hellip;</td><td>&hellip;</td><td>&hellip;</td><td>&hellip;</td><td>&hellip;</td><td>&hellip;</td><td>&hellip;</td><td>&hellip;</td><td>&hellip;</td><td>&hellip;</td><td>&hellip;</td><td>&hellip;</td><td>&hellip;</td><td>&hellip;</td><td>&hellip;</td><td>&hellip;</td><td>&hellip;</td><td>&hellip;</td><td>&hellip;</td></tr><tr><td>7194562</td><td>0</td><td>2</td><td>353.0</td><td>182.0</td><td>0.108968</td><td>0.212121</td><td>29</td><td>29</td><td>null</td><td>null</td><td>null</td><td>null</td><td>null</td><td>null</td><td>null</td><td>1</td><td>179.0</td><td>179.0</td><td>0.0</td><td>0.0</td><td>29</td><td>29</td><td>1</td><td>179.0</td><td>179.0</td><td>0.0</td><td>0.0</td><td>29</td><td>29</td><td>null</td><td>null</td><td>null</td></tr><tr><td>4974206</td><td>1</td><td>35</td><td>24925.0</td><td>1945.0</td><td>0.371692</td><td>0.707991</td><td>12</td><td>118</td><td>null</td><td>null</td><td>null</td><td>null</td><td>null</td><td>null</td><td>null</td><td>18</td><td>5029.0</td><td>1211.0</td><td>0.203663</td><td>0.592119</td><td>2</td><td>25</td><td>69</td><td>25297.0</td><td>1436.0</td><td>0.204439</td><td>0.703869</td><td>2</td><td>120</td><td>78</td><td>2</td><td>120</td></tr><tr><td>6933305</td><td>0</td><td>null</td><td>null</td><td>null</td><td>null</td><td>null</td><td>null</td><td>null</td><td>null</td><td>null</td><td>null</td><td>null</td><td>null</td><td>null</td><td>null</td><td>null</td><td>null</td><td>null</td><td>null</td><td>null</td><td>null</td><td>null</td><td>1</td><td>188.0</td><td>188.0</td><td>0.064677</td><td>0.064677</td><td>64</td><td>64</td><td>null</td><td>null</td><td>null</td></tr><tr><td>10003626</td><td>0</td><td>null</td><td>null</td><td>null</td><td>null</td><td>null</td><td>null</td><td>null</td><td>null</td><td>null</td><td>null</td><td>null</td><td>null</td><td>null</td><td>null</td><td>null</td><td>null</td><td>null</td><td>null</td><td>null</td><td>null</td><td>null</td><td>null</td><td>null</td><td>null</td><td>null</td><td>null</td><td>null</td><td>null</td><td>null</td><td>null</td><td>null</td></tr><tr><td>5379099</td><td>1</td><td>16</td><td>4502.0</td><td>499.0</td><td>0.235356</td><td>0.540901</td><td>19</td><td>117</td><td>null</td><td>null</td><td>null</td><td>null</td><td>null</td><td>null</td><td>null</td><td>22</td><td>5602.0</td><td>1545.0</td><td>0.143555</td><td>0.558445</td><td>85</td><td>117</td><td>22</td><td>4711.0</td><td>468.0</td><td>0.141465</td><td>0.540901</td><td>79</td><td>117</td><td>24</td><td>4</td><td>117</td></tr></tbody></table></div>"
      ],
      "text/plain": [
       "shape: (1_874_956, 33)\n",
       "┌──────────┬────────┬────────────────┬────────────────┬───┬───────────────┬────────────┬───────────────┬───────────────┐\n",
       "│ user_id  ┆ target ┆ num_products_c ┆ sum_discount_p ┆ … ┆ days_since_fi ┆ num_search ┆ days_since_la ┆ days_since_fi │\n",
       "│ ---      ┆ ---    ┆ lick           ┆ rice_click     ┆   ┆ rst_to_cart   ┆ ---        ┆ st_search     ┆ rst_search    │\n",
       "│ i32      ┆ i32    ┆ ---            ┆ ---            ┆   ┆ ---           ┆ i32        ┆ ---           ┆ ---           │\n",
       "│          ┆        ┆ i32            ┆ f32            ┆   ┆ i32           ┆            ┆ i32           ┆ i32           │\n",
       "╞══════════╪════════╪════════════════╪════════════════╪═══╪═══════════════╪════════════╪═══════════════╪═══════════════╡\n",
       "│ 1384102  ┆ 0      ┆ null           ┆ null           ┆ … ┆ null          ┆ null       ┆ null          ┆ null          │\n",
       "│ 9628369  ┆ 0      ┆ 1              ┆ 426.0          ┆ … ┆ 57            ┆ 3          ┆ 57            ┆ 57            │\n",
       "│ 2819812  ┆ 1      ┆ null           ┆ null           ┆ … ┆ null          ┆ 1          ┆ 2             ┆ 2             │\n",
       "│ 1766085  ┆ 0      ┆ null           ┆ null           ┆ … ┆ null          ┆ null       ┆ null          ┆ null          │\n",
       "│ 1658950  ┆ 0      ┆ null           ┆ null           ┆ … ┆ null          ┆ null       ┆ null          ┆ null          │\n",
       "│ …        ┆ …      ┆ …              ┆ …              ┆ … ┆ …             ┆ …          ┆ …             ┆ …             │\n",
       "│ 7194562  ┆ 0      ┆ 2              ┆ 353.0          ┆ … ┆ 29            ┆ null       ┆ null          ┆ null          │\n",
       "│ 4974206  ┆ 1      ┆ 35             ┆ 24925.0        ┆ … ┆ 120           ┆ 78         ┆ 2             ┆ 120           │\n",
       "│ 6933305  ┆ 0      ┆ null           ┆ null           ┆ … ┆ 64            ┆ null       ┆ null          ┆ null          │\n",
       "│ 10003626 ┆ 0      ┆ null           ┆ null           ┆ … ┆ null          ┆ null       ┆ null          ┆ null          │\n",
       "│ 5379099  ┆ 1      ┆ 16             ┆ 4502.0         ┆ … ┆ 117           ┆ 24         ┆ 4             ┆ 117           │\n",
       "└──────────┴────────┴────────────────┴────────────────┴───┴───────────────┴────────────┴───────────────┴───────────────┘"
      ]
     },
     "execution_count": 11,
     "metadata": {},
     "output_type": "execute_result"
    }
   ],
   "source": [
    "df"
   ]
  },
  {
   "cell_type": "markdown",
   "id": "9bc87dff-9d03-4f3d-b665-24cfbfced2c1",
   "metadata": {},
   "source": [
    "### Конверсии\n",
    "\n",
    "Добавляю числовые признаки, имеющие смысл конверсий. Взял конверсии связанные со всеми активностями в логическом порядке (`conversion_list` ниже). Стоит также заметить, что это не чистые конверсии в том смысле, что из-за того, что данные могут отсутствовать, или вообще путь клиента будет неравномерным, так называемая конверсия может быть больше 1 (например, если клиент сделал заказы, не добавляя товар в избранное и т.д.)."
   ]
  },
  {
   "cell_type": "code",
   "execution_count": 12,
   "id": "4d30a650-265f-4fb2-8fe3-143fec01fe52",
   "metadata": {
    "scrolled": true
   },
   "outputs": [
    {
     "data": {
      "text/plain": [
       "{'click_to_favorite': shape: (289_869, 2)\n",
       " ┌──────────┬───────────────────┐\n",
       " │ user_id  ┆ click_to_favorite │\n",
       " │ ---      ┆ ---               │\n",
       " │ i32      ┆ f64               │\n",
       " ╞══════════╪═══════════════════╡\n",
       " │ 10334257 ┆ 0.006757          │\n",
       " │ 6447317  ┆ 0.005348          │\n",
       " │ 2811163  ┆ 0.010101          │\n",
       " │ 3197704  ┆ 0.016393          │\n",
       " │ 425913   ┆ 0.2               │\n",
       " │ …        ┆ …                 │\n",
       " │ 6781389  ┆ 0.05              │\n",
       " │ 5797262  ┆ 2.666667          │\n",
       " │ 4728666  ┆ 0.09375           │\n",
       " │ 1718317  ┆ 8.75              │\n",
       " │ 10456724 ┆ 0.090909          │\n",
       " └──────────┴───────────────────┘,\n",
       " 'click_to_to_cart': shape: (867_406, 2)\n",
       " ┌──────────┬──────────────────┐\n",
       " │ user_id  ┆ click_to_to_cart │\n",
       " │ ---      ┆ ---              │\n",
       " │ i32      ┆ f64              │\n",
       " ╞══════════╪══════════════════╡\n",
       " │ 9628369  ┆ 1.0              │\n",
       " │ 1842988  ┆ 0.222222         │\n",
       " │ 10432266 ┆ 5.0              │\n",
       " │ 10334257 ┆ 0.918919         │\n",
       " │ 712301   ┆ 1.142857         │\n",
       " │ …        ┆ …                │\n",
       " │ 5452748  ┆ 2.333333         │\n",
       " │ 9444295  ┆ 2.0              │\n",
       " │ 7194562  ┆ 0.5              │\n",
       " │ 4974206  ┆ 1.971429         │\n",
       " │ 5379099  ┆ 1.375            │\n",
       " └──────────┴──────────────────┘,\n",
       " 'click_to_order': shape: (492_079, 2)\n",
       " ┌──────────┬────────────────┐\n",
       " │ user_id  ┆ click_to_order │\n",
       " │ ---      ┆ ---            │\n",
       " │ i32      ┆ f64            │\n",
       " ╞══════════╪════════════════╡\n",
       " │ 10334257 ┆ 0.033784       │\n",
       " │ 712301   ┆ 0.714286       │\n",
       " │ 6959702  ┆ 4.140496       │\n",
       " │ 4974897  ┆ 0.153061       │\n",
       " │ 5813670  ┆ 0.9            │\n",
       " │ …        ┆ …              │\n",
       " │ 2151783  ┆ 0.269231       │\n",
       " │ 1788304  ┆ 0.333333       │\n",
       " │ 7194562  ┆ 0.5            │\n",
       " │ 4974206  ┆ 0.514286       │\n",
       " │ 5379099  ┆ 1.375          │\n",
       " └──────────┴────────────────┘,\n",
       " 'favorite_to_to_cart': shape: (263_778, 2)\n",
       " ┌──────────┬─────────────────────┐\n",
       " │ user_id  ┆ favorite_to_to_cart │\n",
       " │ ---      ┆ ---                 │\n",
       " │ i32      ┆ f64                 │\n",
       " ╞══════════╪═════════════════════╡\n",
       " │ 10334257 ┆ 136.0               │\n",
       " │ 6447317  ┆ 283.0               │\n",
       " │ 2811163  ┆ 166.0               │\n",
       " │ 3197704  ┆ 152.0               │\n",
       " │ 425913   ┆ 15.0                │\n",
       " │ …        ┆ …                   │\n",
       " │ 10270617 ┆ 6.0                 │\n",
       " │ 6781389  ┆ 28.0                │\n",
       " │ 5797262  ┆ 1.0625              │\n",
       " │ 4728666  ┆ 12.333333           │\n",
       " │ 10456724 ┆ 3.0                 │\n",
       " └──────────┴─────────────────────┘,\n",
       " 'favorite_to_order': shape: (172_174, 2)\n",
       " ┌──────────┬───────────────────┐\n",
       " │ user_id  ┆ favorite_to_order │\n",
       " │ ---      ┆ ---               │\n",
       " │ i32      ┆ f64               │\n",
       " ╞══════════╪═══════════════════╡\n",
       " │ 10334257 ┆ 5.0               │\n",
       " │ 6447317  ┆ 46.0              │\n",
       " │ 2811163  ┆ 5.0               │\n",
       " │ 3197704  ┆ 48.0              │\n",
       " │ 11089362 ┆ 11.0              │\n",
       " │ …        ┆ …                 │\n",
       " │ 7314374  ┆ 17.0              │\n",
       " │ 10270617 ┆ 5.0               │\n",
       " │ 6781389  ┆ 6.0               │\n",
       " │ 5797262  ┆ 0.9375            │\n",
       " │ 4728666  ┆ 8.0               │\n",
       " └──────────┴───────────────────┘,\n",
       " 'to_cart_to_order': shape: (497_350, 2)\n",
       " ┌──────────┬──────────────────┐\n",
       " │ user_id  ┆ to_cart_to_order │\n",
       " │ ---      ┆ ---              │\n",
       " │ i32      ┆ f64              │\n",
       " ╞══════════╪══════════════════╡\n",
       " │ 10334257 ┆ 0.036765         │\n",
       " │ 712301   ┆ 0.625            │\n",
       " │ 6959702  ┆ 1.213075         │\n",
       " │ 4974897  ┆ 0.208333         │\n",
       " │ 5813670  ┆ 0.5              │\n",
       " │ …        ┆ …                │\n",
       " │ 2151783  ┆ 0.083333         │\n",
       " │ 1788304  ┆ 0.8              │\n",
       " │ 7194562  ┆ 1.0              │\n",
       " │ 4974206  ┆ 0.26087          │\n",
       " │ 5379099  ┆ 1.0              │\n",
       " └──────────┴──────────────────┘}"
      ]
     },
     "execution_count": 12,
     "metadata": {},
     "output_type": "execute_result"
    }
   ],
   "source": [
    "conversion_list = [\n",
    "    ('click', 'favorite'),\n",
    "    ('click', 'to_cart'),\n",
    "    ('click', 'order'),\n",
    "    ('favorite', 'to_cart'),\n",
    "    ('favorite', 'order'),\n",
    "    ('to_cart', 'order')\n",
    "]\n",
    "df_conversions = {}\n",
    "# конверсия из A в B\n",
    "for A, B in conversion_list:\n",
    "    df_conversions[f\"{A}_to_{B}\"] = (\n",
    "        df.filter((pl.col(f\"num_products_{A}\") > 0) & (pl.col(f\"num_products_{B}\") > 0))\n",
    "        .with_columns(\n",
    "            (pl.col(f\"num_products_{B}\") / pl.col(f\"num_products_{A}\")).alias(\n",
    "                f\"{A}_to_{B}\"\n",
    "            ),\n",
    "        ).select([\"user_id\", f\"{A}_to_{B}\"])\n",
    "    )\n",
    "for A, B in conversion_list:\n",
    "    df = df.join(df_conversions[f\"{A}_to_{B}\"], on=\"user_id\", how=\"left\")\n",
    "df_conversions"
   ]
  },
  {
   "cell_type": "markdown",
   "id": "5d59a78b-8137-4460-9554-bb97d6adc210",
   "metadata": {},
   "source": [
    "### Окно по 7, 14, 30, 60 дней\n",
    "\n",
    "Добавляю аналоги агрегационных признаков, сгенерированных семинаристом, при том изменении, что они берутся за последние 7/14/30 дней. Эти значения могут отображать, насколько активен клиент на относительно коротком промежутке времени."
   ]
  },
  {
   "cell_type": "code",
   "execution_count": 13,
   "id": "eec1cab3-3041-4c4c-a0a6-d0ba81a58326",
   "metadata": {
    "scrolled": true
   },
   "outputs": [
    {
     "data": {
      "application/vnd.jupyter.widget-view+json": {
       "model_id": "bc904fa6facb49f6a1274fd79970afc6",
       "version_major": 2,
       "version_minor": 0
      },
      "text/plain": [
       "  0%|          | 0/4 [00:00<?, ?it/s]"
      ]
     },
     "metadata": {},
     "output_type": "display_data"
    },
    {
     "data": {
      "application/vnd.jupyter.widget-view+json": {
       "model_id": "9b6ac16c67d3411f9a8cfa0839e2cf3a",
       "version_major": 2,
       "version_minor": 0
      },
      "text/plain": [
       "  0%|          | 0/4 [00:00<?, ?it/s]"
      ]
     },
     "metadata": {},
     "output_type": "display_data"
    },
    {
     "data": {
      "application/vnd.jupyter.widget-view+json": {
       "model_id": "62a81ff7f7a54417970a3ff647acf38e",
       "version_major": 2,
       "version_minor": 0
      },
      "text/plain": [
       "  0%|          | 0/4 [00:00<?, ?it/s]"
      ]
     },
     "metadata": {},
     "output_type": "display_data"
    },
    {
     "data": {
      "application/vnd.jupyter.widget-view+json": {
       "model_id": "97593092d90549308e384a30211f2454",
       "version_major": 2,
       "version_minor": 0
      },
      "text/plain": [
       "  0%|          | 0/4 [00:00<?, ?it/s]"
      ]
     },
     "metadata": {},
     "output_type": "display_data"
    },
    {
     "data": {
      "text/plain": [
       "{7: {1: shape: (538_744, 6)\n",
       "  ┌─────────┬─────────────────────┬─────────────────────┬─────────────────────┬─────────────────────┬────────────────────┐\n",
       "  │ user_id ┆ num_products_click_ ┆ sum_discount_price_ ┆ max_discount_price_ ┆ mean_relative_disco ┆ max_relative_disco │\n",
       "  │ ---     ┆ 7                   ┆ click_7             ┆ click_7             ┆ unt_click_7         ┆ unt_click_7        │\n",
       "  │ i32     ┆ ---                 ┆ ---                 ┆ ---                 ┆ ---                 ┆ ---                │\n",
       "  │         ┆ i32                 ┆ f32                 ┆ f32                 ┆ f32                 ┆ f32                │\n",
       "  ╞═════════╪═════════════════════╪═════════════════════╪═════════════════════╪═════════════════════╪════════════════════╡\n",
       "  │ 6704757 ┆ 12                  ┆ 11091.0             ┆ 3924.0              ┆ 0.313295            ┆ 0.789546           │\n",
       "  │ 2279777 ┆ 2                   ┆ 582.0               ┆ 463.0               ┆ 0.03876             ┆ 0.077519           │\n",
       "  │ 5032853 ┆ 1                   ┆ 943.0               ┆ 943.0               ┆ 0.569406            ┆ 0.569406           │\n",
       "  │ 8206667 ┆ 1                   ┆ 319.0               ┆ 319.0               ┆ 0.179949            ┆ 0.179949           │\n",
       "  │ 4710258 ┆ 3                   ┆ 1619.0              ┆ 622.0               ┆ 0.11856             ┆ 0.267703           │\n",
       "  │ …       ┆ …                   ┆ …                   ┆ …                   ┆ …                   ┆ …                  │\n",
       "  │ 7882979 ┆ 16                  ┆ 3053.0              ┆ 300.0               ┆ 0.083975            ┆ 0.341912           │\n",
       "  │ 9478760 ┆ 16                  ┆ 2836.0              ┆ 499.0               ┆ 0.170045            ┆ 0.458537           │\n",
       "  │ 3987575 ┆ 13                  ┆ 4000.0              ┆ 1521.0              ┆ 0.191993            ┆ 0.521739           │\n",
       "  │ 9671706 ┆ 9                   ┆ 2861.0              ┆ 609.0               ┆ 0.188707            ┆ 0.543077           │\n",
       "  │ 260176  ┆ 3                   ┆ 344.0               ┆ 139.0               ┆ 0.137403            ┆ 0.234694           │\n",
       "  └─────────┴─────────────────────┴─────────────────────┴─────────────────────┴─────────────────────┴────────────────────┘,\n",
       "  2: shape: (64_558, 6)\n",
       "  ┌─────────┬─────────────────────┬─────────────────────┬─────────────────────┬─────────────────────┬────────────────────┐\n",
       "  │ user_id ┆ num_products_favori ┆ sum_discount_price_ ┆ max_discount_price_ ┆ mean_relative_disco ┆ max_relative_disco │\n",
       "  │ ---     ┆ te_7                ┆ favorite_7          ┆ favorite_7          ┆ unt_favorit…        ┆ unt_favorite…      │\n",
       "  │ i32     ┆ ---                 ┆ ---                 ┆ ---                 ┆ ---                 ┆ ---                │\n",
       "  │         ┆ i32                 ┆ f32                 ┆ f32                 ┆ f32                 ┆ f32                │\n",
       "  ╞═════════╪═════════════════════╪═════════════════════╪═════════════════════╪═════════════════════╪════════════════════╡\n",
       "  │ 2810785 ┆ 1                   ┆ 1107.0              ┆ 1107.0              ┆ 0.148462            ┆ 0.148462           │\n",
       "  │ 6839664 ┆ 1                   ┆ 114.0               ┆ 114.0               ┆ 0.325444            ┆ 0.325444           │\n",
       "  │ 6037842 ┆ 3                   ┆ 587.0               ┆ 269.0               ┆ 0.37027             ┆ 0.374214           │\n",
       "  │ 7661103 ┆ 2                   ┆ 130.0               ┆ 89.0                ┆ 0.204951            ┆ 0.226415           │\n",
       "  │ 5617583 ┆ 2                   ┆ 2301.0              ┆ 1552.0              ┆ 0.437777            ┆ 0.625313           │\n",
       "  │ …       ┆ …                   ┆ …                   ┆ …                   ┆ …                   ┆ …                  │\n",
       "  │ 3307113 ┆ 1                   ┆ 68.0                ┆ 68.0                ┆ 0.0                 ┆ 0.0                │\n",
       "  │ 4309217 ┆ 3                   ┆ 3807.0              ┆ 3149.0              ┆ 0.303735            ┆ 0.386364           │\n",
       "  │ 1845995 ┆ 4                   ┆ 687.0               ┆ 249.0               ┆ 0.0989              ┆ 0.243161           │\n",
       "  │ 3032771 ┆ 1                   ┆ 341.0               ┆ 341.0               ┆ 0.0                 ┆ 0.0                │\n",
       "  │ 3858569 ┆ 3                   ┆ 1369.0              ┆ 622.0               ┆ 0.331624            ┆ 0.378              │\n",
       "  └─────────┴─────────────────────┴─────────────────────┴─────────────────────┴─────────────────────┴────────────────────┘,\n",
       "  3: shape: (242_880, 6)\n",
       "  ┌──────────┬─────────────────────┬─────────────────────┬─────────────────────┬────────────────────┬────────────────────┐\n",
       "  │ user_id  ┆ num_products_order_ ┆ sum_discount_price_ ┆ max_discount_price_ ┆ mean_relative_disc ┆ max_relative_disco │\n",
       "  │ ---      ┆ 7                   ┆ order_7             ┆ order_7             ┆ ount_order_7       ┆ unt_order_7        │\n",
       "  │ i32      ┆ ---                 ┆ ---                 ┆ ---                 ┆ ---                ┆ ---                │\n",
       "  │          ┆ i32                 ┆ f32                 ┆ f32                 ┆ f32                ┆ f32                │\n",
       "  ╞══════════╪═════════════════════╪═════════════════════╪═════════════════════╪════════════════════╪════════════════════╡\n",
       "  │ 4292235  ┆ 1                   ┆ 519.0               ┆ 519.0               ┆ 0.333761           ┆ 0.333761           │\n",
       "  │ 6574093  ┆ 5                   ┆ 956.0               ┆ 638.0               ┆ 0.09844            ┆ 0.348315           │\n",
       "  │ 8769779  ┆ 3                   ┆ 2844.0              ┆ 2366.0              ┆ 0.041018           ┆ 0.123054           │\n",
       "  │ 451184   ┆ 2                   ┆ 1045.0              ┆ 1036.0              ┆ 0.264438           ┆ 0.528877           │\n",
       "  │ 10053204 ┆ 13                  ┆ 2549.0              ┆ 442.0               ┆ 0.2429             ┆ 0.705137           │\n",
       "  │ …        ┆ …                   ┆ …                   ┆ …                   ┆ …                  ┆ …                  │\n",
       "  │ 10514933 ┆ 2                   ┆ 2937.0              ┆ 2928.0              ┆ 0.0                ┆ 0.0                │\n",
       "  │ 2127789  ┆ 30                  ┆ 8362.0              ┆ 1786.0              ┆ 0.113843           ┆ 0.536797           │\n",
       "  │ 8282921  ┆ 9                   ┆ 4585.0              ┆ 1841.0              ┆ 0.235335           ┆ 0.587586           │\n",
       "  │ 9664376  ┆ 13                  ┆ 3374.0              ┆ 709.0               ┆ 0.113393           ┆ 0.451189           │\n",
       "  │ 7574428  ┆ 1                   ┆ 8947.631836         ┆ 8947.631836         ┆ 0.212941           ┆ 0.212941           │\n",
       "  └──────────┴─────────────────────┴─────────────────────┴─────────────────────┴────────────────────┴────────────────────┘,\n",
       "  5: shape: (444_420, 6)\n",
       "  ┌──────────┬─────────────────────┬─────────────────────┬─────────────────────┬────────────────────┬────────────────────┐\n",
       "  │ user_id  ┆ num_products_to_car ┆ sum_discount_price_ ┆ max_discount_price_ ┆ mean_relative_disc ┆ max_relative_disco │\n",
       "  │ ---      ┆ t_7                 ┆ to_cart_7           ┆ to_cart_7           ┆ ount_to_cart…      ┆ unt_to_cart_…      │\n",
       "  │ i32      ┆ ---                 ┆ ---                 ┆ ---                 ┆ ---                ┆ ---                │\n",
       "  │          ┆ i32                 ┆ f32                 ┆ f32                 ┆ f32                ┆ f32                │\n",
       "  ╞══════════╪═════════════════════╪═════════════════════╪═════════════════════╪════════════════════╪════════════════════╡\n",
       "  │ 5143462  ┆ 1                   ┆ 369.0               ┆ 369.0               ┆ 0.196078           ┆ 0.196078           │\n",
       "  │ 9123195  ┆ 1                   ┆ 99.0                ┆ 99.0                ┆ 0.414201           ┆ 0.414201           │\n",
       "  │ 3400767  ┆ 3                   ┆ 3412.0              ┆ 1474.0              ┆ 0.754072           ┆ 0.818025           │\n",
       "  │ 10710038 ┆ 18                  ┆ 6432.0              ┆ 1938.0              ┆ 0.11025            ┆ 0.764619           │\n",
       "  │ 1915372  ┆ 1                   ┆ 1147.0              ┆ 1147.0              ┆ 0.423618           ┆ 0.423618           │\n",
       "  │ …        ┆ …                   ┆ …                   ┆ …                   ┆ …                  ┆ …                  │\n",
       "  │ 6195492  ┆ 12                  ┆ 5194.0              ┆ 1046.0              ┆ 0.235759           ┆ 0.577982           │\n",
       "  │ 1242329  ┆ 30                  ┆ 7680.0              ┆ 2009.0              ┆ 0.049207           ┆ 0.359551           │\n",
       "  │ 7473998  ┆ 38                  ┆ 6594.0              ┆ 699.0               ┆ 0.149882           ┆ 0.634961           │\n",
       "  │ 8729910  ┆ 9                   ┆ 905.0               ┆ 140.0               ┆ 0.043594           ┆ 0.392345           │\n",
       "  │ 9986435  ┆ 14                  ┆ 6448.0              ┆ 1855.0              ┆ 0.182169           ┆ 0.698849           │\n",
       "  └──────────┴─────────────────────┴─────────────────────┴─────────────────────┴────────────────────┴────────────────────┘,\n",
       "  4: shape: (618_720, 2)\n",
       "  ┌─────────┬──────────────┐\n",
       "  │ user_id ┆ num_search_7 │\n",
       "  │ ---     ┆ ---          │\n",
       "  │ i32     ┆ i32          │\n",
       "  ╞═════════╪══════════════╡\n",
       "  │ 9582099 ┆ 5            │\n",
       "  │ 903806  ┆ 1            │\n",
       "  │ 3185003 ┆ 4            │\n",
       "  │ 8526365 ┆ 1            │\n",
       "  │ 8520348 ┆ 1            │\n",
       "  │ …       ┆ …            │\n",
       "  │ 4877188 ┆ 2            │\n",
       "  │ 8585321 ┆ 2            │\n",
       "  │ 2965389 ┆ 2            │\n",
       "  │ 3519465 ┆ 2            │\n",
       "  │ 8767406 ┆ 12           │\n",
       "  └─────────┴──────────────┘},\n",
       " 14: {1: shape: (861_413, 6)\n",
       "  ┌──────────┬─────────────────────┬─────────────────────┬─────────────────────┬────────────────────┬────────────────────┐\n",
       "  │ user_id  ┆ num_products_click_ ┆ sum_discount_price_ ┆ max_discount_price_ ┆ mean_relative_disc ┆ max_relative_disco │\n",
       "  │ ---      ┆ 14                  ┆ click_14            ┆ click_14            ┆ ount_click_1…      ┆ unt_click_14       │\n",
       "  │ i32      ┆ ---                 ┆ ---                 ┆ ---                 ┆ ---                ┆ ---                │\n",
       "  │          ┆ i32                 ┆ f32                 ┆ f32                 ┆ f32                ┆ f32                │\n",
       "  ╞══════════╪═════════════════════╪═════════════════════╪═════════════════════╪════════════════════╪════════════════════╡\n",
       "  │ 7536215  ┆ 10                  ┆ 9103.0              ┆ 3272.0              ┆ 0.473359           ┆ 0.784982           │\n",
       "  │ 1097803  ┆ 7                   ┆ 2105.0              ┆ 830.0               ┆ 0.109448           ┆ 0.440324           │\n",
       "  │ 8860500  ┆ 4                   ┆ 1193.0              ┆ 835.0               ┆ 0.282448           ┆ 0.351351           │\n",
       "  │ 10008524 ┆ 12                  ┆ 4726.0              ┆ 840.0               ┆ 0.151828           ┆ 0.441667           │\n",
       "  │ 4708272  ┆ 7                   ┆ 2515.0              ┆ 699.0               ┆ 0.029383           ┆ 0.205682           │\n",
       "  │ …        ┆ …                   ┆ …                   ┆ …                   ┆ …                  ┆ …                  │\n",
       "  │ 10367233 ┆ 12                  ┆ 155403.359375       ┆ 130300.359375       ┆ 0.63218            ┆ 0.833524           │\n",
       "  │ 7067405  ┆ 6                   ┆ 5071.0              ┆ 1044.0              ┆ 0.470148           ┆ 0.75066            │\n",
       "  │ 3125591  ┆ 4                   ┆ 1935.0              ┆ 881.0               ┆ 0.282127           ┆ 0.756              │\n",
       "  │ 10571025 ┆ 12                  ┆ 5369.0              ┆ 749.0               ┆ 0.048024           ┆ 0.368737           │\n",
       "  │ 7550988  ┆ 1                   ┆ 117.0               ┆ 117.0               ┆ 0.374332           ┆ 0.374332           │\n",
       "  └──────────┴─────────────────────┴─────────────────────┴─────────────────────┴────────────────────┴────────────────────┘,\n",
       "  2: shape: (115_058, 6)\n",
       "  ┌──────────┬─────────────────────┬─────────────────────┬─────────────────────┬────────────────────┬────────────────────┐\n",
       "  │ user_id  ┆ num_products_favori ┆ sum_discount_price_ ┆ max_discount_price_ ┆ mean_relative_disc ┆ max_relative_disco │\n",
       "  │ ---      ┆ te_14               ┆ favorite_14         ┆ favorite_14         ┆ ount_favorit…      ┆ unt_favorite…      │\n",
       "  │ i32      ┆ ---                 ┆ ---                 ┆ ---                 ┆ ---                ┆ ---                │\n",
       "  │          ┆ i32                 ┆ f32                 ┆ f32                 ┆ f32                ┆ f32                │\n",
       "  ╞══════════╪═════════════════════╪═════════════════════╪═════════════════════╪════════════════════╪════════════════════╡\n",
       "  │ 7070862  ┆ 1                   ┆ 1200.0              ┆ 1200.0              ┆ 0.2                ┆ 0.2                │\n",
       "  │ 1872481  ┆ 1                   ┆ 55.0                ┆ 55.0                ┆ 0.112903           ┆ 0.112903           │\n",
       "  │ 11063570 ┆ 2                   ┆ 1863.0              ┆ 1050.0              ┆ 0.604472           ┆ 0.617486           │\n",
       "  │ 4737783  ┆ 1                   ┆ 279.0               ┆ 279.0               ┆ 0.0                ┆ 0.0                │\n",
       "  │ 9955269  ┆ 2                   ┆ 313.0               ┆ 174.0               ┆ 0.0                ┆ 0.0                │\n",
       "  │ …        ┆ …                   ┆ …                   ┆ …                   ┆ …                  ┆ …                  │\n",
       "  │ 1326780  ┆ 1                   ┆ 650.0               ┆ 650.0               ┆ 0.0                ┆ 0.0                │\n",
       "  │ 5318261  ┆ 1                   ┆ 974.0               ┆ 974.0               ┆ 0.461581           ┆ 0.461581           │\n",
       "  │ 2984387  ┆ 1                   ┆ 87.0                ┆ 87.0                ┆ 0.304              ┆ 0.304              │\n",
       "  │ 3167666  ┆ 1                   ┆ 244.0               ┆ 244.0               ┆ 0.484144           ┆ 0.484144           │\n",
       "  │ 9980534  ┆ 1                   ┆ 115.0               ┆ 115.0               ┆ 0.0                ┆ 0.0                │\n",
       "  └──────────┴─────────────────────┴─────────────────────┴─────────────────────┴────────────────────┴────────────────────┘,\n",
       "  3: shape: (380_623, 6)\n",
       "  ┌──────────┬─────────────────────┬─────────────────────┬─────────────────────┬────────────────────┬────────────────────┐\n",
       "  │ user_id  ┆ num_products_order_ ┆ sum_discount_price_ ┆ max_discount_price_ ┆ mean_relative_disc ┆ max_relative_disco │\n",
       "  │ ---      ┆ 14                  ┆ order_14            ┆ order_14            ┆ ount_order_1…      ┆ unt_order_14       │\n",
       "  │ i32      ┆ ---                 ┆ ---                 ┆ ---                 ┆ ---                ┆ ---                │\n",
       "  │          ┆ i32                 ┆ f32                 ┆ f32                 ┆ f32                ┆ f32                │\n",
       "  ╞══════════╪═════════════════════╪═════════════════════╪═════════════════════╪════════════════════╪════════════════════╡\n",
       "  │ 247877   ┆ 1                   ┆ 130.0               ┆ 130.0               ┆ 0.115646           ┆ 0.115646           │\n",
       "  │ 9926196  ┆ 4                   ┆ 3738.0              ┆ 1819.0              ┆ 0.415009           ┆ 0.696327           │\n",
       "  │ 3354762  ┆ 36                  ┆ 5777.0              ┆ 576.0               ┆ 0.088035           ┆ 0.5196             │\n",
       "  │ 4533163  ┆ 3                   ┆ 608.0               ┆ 480.0               ┆ 0.12               ┆ 0.36               │\n",
       "  │ 2906600  ┆ 9                   ┆ 880.0               ┆ 350.0               ┆ 0.060478           ┆ 0.240506           │\n",
       "  │ …        ┆ …                   ┆ …                   ┆ …                   ┆ …                  ┆ …                  │\n",
       "  │ 4567872  ┆ 11                  ┆ 2163.0              ┆ 485.0               ┆ 0.105235           ┆ 0.272727           │\n",
       "  │ 4463110  ┆ 14                  ┆ 3286.0              ┆ 1436.0              ┆ 0.063326           ┆ 0.358631           │\n",
       "  │ 3235277  ┆ 11                  ┆ 3653.0              ┆ 1199.0              ┆ 0.268519           ┆ 0.762107           │\n",
       "  │ 1089916  ┆ 14                  ┆ 3376.0              ┆ 990.0               ┆ 0.132574           ┆ 0.484144           │\n",
       "  │ 10728196 ┆ 11                  ┆ 1495.0              ┆ 297.0               ┆ 0.027221           ┆ 0.173913           │\n",
       "  └──────────┴─────────────────────┴─────────────────────┴─────────────────────┴────────────────────┴────────────────────┘,\n",
       "  5: shape: (679_810, 6)\n",
       "  ┌──────────┬─────────────────────┬─────────────────────┬─────────────────────┬────────────────────┬────────────────────┐\n",
       "  │ user_id  ┆ num_products_to_car ┆ sum_discount_price_ ┆ max_discount_price_ ┆ mean_relative_disc ┆ max_relative_disco │\n",
       "  │ ---      ┆ t_14                ┆ to_cart_14          ┆ to_cart_14          ┆ ount_to_cart…      ┆ unt_to_cart_…      │\n",
       "  │ i32      ┆ ---                 ┆ ---                 ┆ ---                 ┆ ---                ┆ ---                │\n",
       "  │          ┆ i32                 ┆ f32                 ┆ f32                 ┆ f32                ┆ f32                │\n",
       "  ╞══════════╪═════════════════════╪═════════════════════╪═════════════════════╪════════════════════╪════════════════════╡\n",
       "  │ 5742751  ┆ 19                  ┆ 6537.0              ┆ 999.0               ┆ 0.220894           ┆ 0.754477           │\n",
       "  │ 10876263 ┆ 1                   ┆ 149.0               ┆ 149.0               ┆ 0.251256           ┆ 0.251256           │\n",
       "  │ 1977365  ┆ 5                   ┆ 3392.0              ┆ 1861.0              ┆ 0.250604           ┆ 0.451895           │\n",
       "  │ 10422837 ┆ 1                   ┆ 179.0               ┆ 179.0               ┆ 0.0                ┆ 0.0                │\n",
       "  │ 4197066  ┆ 1                   ┆ 349.0               ┆ 349.0               ┆ 0.0                ┆ 0.0                │\n",
       "  │ …        ┆ …                   ┆ …                   ┆ …                   ┆ …                  ┆ …                  │\n",
       "  │ 6497847  ┆ 31                  ┆ 57690.0             ┆ 29094.0             ┆ 0.213824           ┆ 0.737292           │\n",
       "  │ 5799105  ┆ 23                  ┆ 3767.0              ┆ 473.0               ┆ 0.100895           ┆ 0.63               │\n",
       "  │ 10080675 ┆ 1                   ┆ 75.0                ┆ 75.0                ┆ 0.358974           ┆ 0.358974           │\n",
       "  │ 11015135 ┆ 1                   ┆ 310.0               ┆ 310.0               ┆ 0.37247            ┆ 0.37247            │\n",
       "  │ 3394011  ┆ 1                   ┆ 152.0               ┆ 152.0               ┆ 0.0                ┆ 0.0                │\n",
       "  └──────────┴─────────────────────┴─────────────────────┴─────────────────────┴────────────────────┴────────────────────┘,\n",
       "  4: shape: (961_554, 2)\n",
       "  ┌─────────┬───────────────┐\n",
       "  │ user_id ┆ num_search_14 │\n",
       "  │ ---     ┆ ---           │\n",
       "  │ i32     ┆ i32           │\n",
       "  ╞═════════╪═══════════════╡\n",
       "  │ 8255304 ┆ 3             │\n",
       "  │ 4483335 ┆ 3             │\n",
       "  │ 7342316 ┆ 30            │\n",
       "  │ 8960391 ┆ 23            │\n",
       "  │ 8949116 ┆ 1             │\n",
       "  │ …       ┆ …             │\n",
       "  │ 4943373 ┆ 1             │\n",
       "  │ 666915  ┆ 1             │\n",
       "  │ 1448033 ┆ 2             │\n",
       "  │ 1454717 ┆ 29            │\n",
       "  │ 2622769 ┆ 3             │\n",
       "  └─────────┴───────────────┘},\n",
       " 30: {1: shape: (1_459_490, 6)\n",
       "  ┌──────────┬─────────────────────┬─────────────────────┬─────────────────────┬────────────────────┬────────────────────┐\n",
       "  │ user_id  ┆ num_products_click_ ┆ sum_discount_price_ ┆ max_discount_price_ ┆ mean_relative_disc ┆ max_relative_disco │\n",
       "  │ ---      ┆ 30                  ┆ click_30            ┆ click_30            ┆ ount_click_3…      ┆ unt_click_30       │\n",
       "  │ i32      ┆ ---                 ┆ ---                 ┆ ---                 ┆ ---                ┆ ---                │\n",
       "  │          ┆ i32                 ┆ f32                 ┆ f32                 ┆ f32                ┆ f32                │\n",
       "  ╞══════════╪═════════════════════╪═════════════════════╪═════════════════════╪════════════════════╪════════════════════╡\n",
       "  │ 1348321  ┆ 4                   ┆ 11704.0             ┆ 2926.0              ┆ 0.383741           ┆ 0.383741           │\n",
       "  │ 5568437  ┆ 1                   ┆ 245.0               ┆ 245.0               ┆ 0.158076           ┆ 0.158076           │\n",
       "  │ 9224250  ┆ 1                   ┆ 84.0                ┆ 84.0                ┆ 0.0                ┆ 0.0                │\n",
       "  │ 1306615  ┆ 45                  ┆ 15636.0             ┆ 1254.0              ┆ 0.201013           ┆ 0.779831           │\n",
       "  │ 11092509 ┆ 1                   ┆ 140300.984375       ┆ 140300.984375       ┆ 0.351911           ┆ 0.351911           │\n",
       "  │ …        ┆ …                   ┆ …                   ┆ …                   ┆ …                  ┆ …                  │\n",
       "  │ 3522374  ┆ 8                   ┆ 3115.0              ┆ 800.0               ┆ 0.045202           ┆ 0.361613           │\n",
       "  │ 2673880  ┆ 1                   ┆ 2322.0              ┆ 2322.0              ┆ 0.418045           ┆ 0.418045           │\n",
       "  │ 2226915  ┆ 5                   ┆ 3290.0              ┆ 1346.0              ┆ 0.247018           ┆ 0.5                │\n",
       "  │ 482490   ┆ 1                   ┆ 136.0               ┆ 136.0               ┆ 0.007299           ┆ 0.007299           │\n",
       "  │ 5130692  ┆ 27                  ┆ 11669.0             ┆ 1554.0              ┆ 0.243374           ┆ 0.638524           │\n",
       "  └──────────┴─────────────────────┴─────────────────────┴─────────────────────┴────────────────────┴────────────────────┘,\n",
       "  2: shape: (220_503, 6)\n",
       "  ┌──────────┬─────────────────────┬─────────────────────┬─────────────────────┬────────────────────┬────────────────────┐\n",
       "  │ user_id  ┆ num_products_favori ┆ sum_discount_price_ ┆ max_discount_price_ ┆ mean_relative_disc ┆ max_relative_disco │\n",
       "  │ ---      ┆ te_30               ┆ favorite_30         ┆ favorite_30         ┆ ount_favorit…      ┆ unt_favorite…      │\n",
       "  │ i32      ┆ ---                 ┆ ---                 ┆ ---                 ┆ ---                ┆ ---                │\n",
       "  │          ┆ i32                 ┆ f32                 ┆ f32                 ┆ f32                ┆ f32                │\n",
       "  ╞══════════╪═════════════════════╪═════════════════════╪═════════════════════╪════════════════════╪════════════════════╡\n",
       "  │ 8876884  ┆ 1                   ┆ 78.0                ┆ 78.0                ┆ 0.0                ┆ 0.0                │\n",
       "  │ 3117630  ┆ 1                   ┆ 3296.0              ┆ 3296.0              ┆ 0.431626           ┆ 0.431626           │\n",
       "  │ 5663484  ┆ 1                   ┆ 366.0               ┆ 366.0               ┆ 0.263581           ┆ 0.263581           │\n",
       "  │ 6829538  ┆ 1                   ┆ 273.0               ┆ 273.0               ┆ 0.0                ┆ 0.0                │\n",
       "  │ 10447641 ┆ 1                   ┆ 105.0               ┆ 105.0               ┆ 0.588235           ┆ 0.588235           │\n",
       "  │ …        ┆ …                   ┆ …                   ┆ …                   ┆ …                  ┆ …                  │\n",
       "  │ 7006698  ┆ 1                   ┆ 676.0               ┆ 676.0               ┆ 0.487879           ┆ 0.487879           │\n",
       "  │ 5991759  ┆ 3                   ┆ 21563.0             ┆ 16999.0             ┆ 0.152582           ┆ 0.30774            │\n",
       "  │ 11153290 ┆ 4                   ┆ 896.0               ┆ 399.0               ┆ 0.0                ┆ 0.0                │\n",
       "  │ 7891375  ┆ 1                   ┆ 332.0               ┆ 332.0               ┆ 0.0                ┆ 0.0                │\n",
       "  │ 8573513  ┆ 1                   ┆ 970.0               ┆ 970.0               ┆ 0.319776           ┆ 0.319776           │\n",
       "  └──────────┴─────────────────────┴─────────────────────┴─────────────────────┴────────────────────┴────────────────────┘,\n",
       "  3: shape: (610_658, 6)\n",
       "  ┌─────────┬─────────────────────┬─────────────────────┬─────────────────────┬─────────────────────┬────────────────────┐\n",
       "  │ user_id ┆ num_products_order_ ┆ sum_discount_price_ ┆ max_discount_price_ ┆ mean_relative_disco ┆ max_relative_disco │\n",
       "  │ ---     ┆ 30                  ┆ order_30            ┆ order_30            ┆ unt_order_3…        ┆ unt_order_30       │\n",
       "  │ i32     ┆ ---                 ┆ ---                 ┆ ---                 ┆ ---                 ┆ ---                │\n",
       "  │         ┆ i32                 ┆ f32                 ┆ f32                 ┆ f32                 ┆ f32                │\n",
       "  ╞═════════╪═════════════════════╪═════════════════════╪═════════════════════╪═════════════════════╪════════════════════╡\n",
       "  │ 8353468 ┆ 23                  ┆ 5062.0              ┆ 999.0               ┆ 0.109066            ┆ 0.3687             │\n",
       "  │ 6144009 ┆ 33                  ┆ 7301.0              ┆ 699.0               ┆ 0.03052             ┆ 0.294118           │\n",
       "  │ 3787329 ┆ 18                  ┆ 4655.0              ┆ 1219.0              ┆ 0.108925            ┆ 0.41841            │\n",
       "  │ 6596497 ┆ 22                  ┆ 6205.0              ┆ 2850.0              ┆ 0.152833            ┆ 0.559449           │\n",
       "  │ 4207302 ┆ 6                   ┆ 871.0               ┆ 379.0               ┆ 0.079164            ┆ 0.20339            │\n",
       "  │ …       ┆ …                   ┆ …                   ┆ …                   ┆ …                   ┆ …                  │\n",
       "  │ 1817422 ┆ 1                   ┆ 314.0               ┆ 314.0               ┆ 0.268065            ┆ 0.268065           │\n",
       "  │ 1852935 ┆ 3                   ┆ 3579.0              ┆ 2990.0              ┆ 0.23026             ┆ 0.440154           │\n",
       "  │ 1387838 ┆ 12                  ┆ 1824.0              ┆ 369.0               ┆ 0.212659            ┆ 0.832273           │\n",
       "  │ 3074456 ┆ 28                  ┆ 4844.0              ┆ 379.0               ┆ 0.081097            ┆ 0.320423           │\n",
       "  │ 6576644 ┆ 1                   ┆ 724.0               ┆ 724.0               ┆ 0.082383            ┆ 0.082383           │\n",
       "  └─────────┴─────────────────────┴─────────────────────┴─────────────────────┴─────────────────────┴────────────────────┘,\n",
       "  5: shape: (1_081_669, 6)\n",
       "  ┌──────────┬─────────────────────┬─────────────────────┬─────────────────────┬────────────────────┬────────────────────┐\n",
       "  │ user_id  ┆ num_products_to_car ┆ sum_discount_price_ ┆ max_discount_price_ ┆ mean_relative_disc ┆ max_relative_disco │\n",
       "  │ ---      ┆ t_30                ┆ to_cart_30          ┆ to_cart_30          ┆ ount_to_cart…      ┆ unt_to_cart_…      │\n",
       "  │ i32      ┆ ---                 ┆ ---                 ┆ ---                 ┆ ---                ┆ ---                │\n",
       "  │          ┆ i32                 ┆ f32                 ┆ f32                 ┆ f32                ┆ f32                │\n",
       "  ╞══════════╪═════════════════════╪═════════════════════╪═════════════════════╪════════════════════╪════════════════════╡\n",
       "  │ 184982   ┆ 12                  ┆ 2075.0              ┆ 449.0               ┆ 0.132847           ┆ 0.830128           │\n",
       "  │ 8030659  ┆ 3                   ┆ 422.0               ┆ 230.0               ┆ 0.196651           ┆ 0.399478           │\n",
       "  │ 6056     ┆ 9                   ┆ 1296.0              ┆ 238.0               ┆ 0.133334           ┆ 0.285714           │\n",
       "  │ 10109981 ┆ 5                   ┆ 1516.0              ┆ 451.0               ┆ 0.203889           ┆ 0.285945           │\n",
       "  │ 9900487  ┆ 3                   ┆ 2133.0              ┆ 1599.0              ┆ 0.282134           ┆ 0.360144           │\n",
       "  │ …        ┆ …                   ┆ …                   ┆ …                   ┆ …                  ┆ …                  │\n",
       "  │ 8445082  ┆ 1                   ┆ 4047.0              ┆ 4047.0              ┆ 0.100866           ┆ 0.100866           │\n",
       "  │ 8089963  ┆ 4                   ┆ 2038.0              ┆ 669.0               ┆ 0.0                ┆ 0.0                │\n",
       "  │ 1449078  ┆ 1                   ┆ 964.0               ┆ 964.0               ┆ 0.0                ┆ 0.0                │\n",
       "  │ 10366155 ┆ 48                  ┆ 7667.0              ┆ 389.0               ┆ 0.041452           ┆ 0.346734           │\n",
       "  │ 1521941  ┆ 1                   ┆ 104.0               ┆ 104.0               ┆ 0.0                ┆ 0.0                │\n",
       "  └──────────┴─────────────────────┴─────────────────────┴─────────────────────┴────────────────────┴────────────────────┘,\n",
       "  4: shape: (1_569_942, 2)\n",
       "  ┌─────────┬───────────────┐\n",
       "  │ user_id ┆ num_search_30 │\n",
       "  │ ---     ┆ ---           │\n",
       "  │ i32     ┆ i32           │\n",
       "  ╞═════════╪═══════════════╡\n",
       "  │ 4091688 ┆ 22            │\n",
       "  │ 6998663 ┆ 15            │\n",
       "  │ 1868328 ┆ 7             │\n",
       "  │ 736941  ┆ 4             │\n",
       "  │ 7202345 ┆ 1             │\n",
       "  │ …       ┆ …             │\n",
       "  │ 9934124 ┆ 1             │\n",
       "  │ 8495904 ┆ 4             │\n",
       "  │ 7050244 ┆ 4             │\n",
       "  │ 1967099 ┆ 13            │\n",
       "  │ 6138176 ┆ 7             │\n",
       "  └─────────┴───────────────┘},\n",
       " 60: {1: shape: (2_312_335, 6)\n",
       "  ┌──────────┬─────────────────────┬─────────────────────┬─────────────────────┬────────────────────┬────────────────────┐\n",
       "  │ user_id  ┆ num_products_click_ ┆ sum_discount_price_ ┆ max_discount_price_ ┆ mean_relative_disc ┆ max_relative_disco │\n",
       "  │ ---      ┆ 60                  ┆ click_60            ┆ click_60            ┆ ount_click_6…      ┆ unt_click_60       │\n",
       "  │ i32      ┆ ---                 ┆ ---                 ┆ ---                 ┆ ---                ┆ ---                │\n",
       "  │          ┆ i32                 ┆ f32                 ┆ f32                 ┆ f32                ┆ f32                │\n",
       "  ╞══════════╪═════════════════════╪═════════════════════╪═════════════════════╪════════════════════╪════════════════════╡\n",
       "  │ 8281784  ┆ 1                   ┆ 235.0               ┆ 235.0               ┆ 0.0                ┆ 0.0                │\n",
       "  │ 2614689  ┆ 30                  ┆ 7856.0              ┆ 1082.0              ┆ 0.07093            ┆ 0.484144           │\n",
       "  │ 9098799  ┆ 1                   ┆ 1444.0              ┆ 1444.0              ┆ 0.32111            ┆ 0.32111            │\n",
       "  │ 5104820  ┆ 23                  ┆ 53705.0             ┆ 14980.0             ┆ 0.220836           ┆ 0.548885           │\n",
       "  │ 9918818  ┆ 5                   ┆ 4081.0              ┆ 1367.0              ┆ 0.0                ┆ 0.0                │\n",
       "  │ …        ┆ …                   ┆ …                   ┆ …                   ┆ …                  ┆ …                  │\n",
       "  │ 3604154  ┆ 1                   ┆ 1878.0              ┆ 1878.0              ┆ 0.449105           ┆ 0.449105           │\n",
       "  │ 7203059  ┆ 8                   ┆ 4862.0              ┆ 1292.0              ┆ 0.007886           ┆ 0.063089           │\n",
       "  │ 6391415  ┆ 1                   ┆ 1040.0              ┆ 1040.0              ┆ 0.791583           ┆ 0.791583           │\n",
       "  │ 10252259 ┆ 1                   ┆ 25.0                ┆ 25.0                ┆ 0.0                ┆ 0.0                │\n",
       "  │ 4418531  ┆ 8                   ┆ 8347.0              ┆ 1560.0              ┆ 0.444881           ┆ 0.698747           │\n",
       "  └──────────┴─────────────────────┴─────────────────────┴─────────────────────┴────────────────────┴────────────────────┘,\n",
       "  2: shape: (401_818, 6)\n",
       "  ┌─────────┬─────────────────────┬─────────────────────┬─────────────────────┬─────────────────────┬────────────────────┐\n",
       "  │ user_id ┆ num_products_favori ┆ sum_discount_price_ ┆ max_discount_price_ ┆ mean_relative_disco ┆ max_relative_disco │\n",
       "  │ ---     ┆ te_60               ┆ favorite_60         ┆ favorite_60         ┆ unt_favorit…        ┆ unt_favorite…      │\n",
       "  │ i32     ┆ ---                 ┆ ---                 ┆ ---                 ┆ ---                 ┆ ---                │\n",
       "  │         ┆ i32                 ┆ f32                 ┆ f32                 ┆ f32                 ┆ f32                │\n",
       "  ╞═════════╪═════════════════════╪═════════════════════╪═════════════════════╪═════════════════════╪════════════════════╡\n",
       "  │ 1903582 ┆ 1                   ┆ 251.0               ┆ 251.0               ┆ 0.0                 ┆ 0.0                │\n",
       "  │ 545731  ┆ 6                   ┆ 5291.0              ┆ 3228.0              ┆ 0.332116            ┆ 0.578419           │\n",
       "  │ 3992470 ┆ 7                   ┆ 2752.0              ┆ 699.0               ┆ 0.084469            ┆ 0.300752           │\n",
       "  │ 6215854 ┆ 3                   ┆ 1562.0              ┆ 781.0               ┆ 0.0                 ┆ 0.0                │\n",
       "  │ 7642760 ┆ 6                   ┆ 3684.0              ┆ 614.0               ┆ 0.688956            ┆ 0.688956           │\n",
       "  │ …       ┆ …                   ┆ …                   ┆ …                   ┆ …                   ┆ …                  │\n",
       "  │ 1347070 ┆ 2                   ┆ 196.0               ┆ 101.0               ┆ 0.406061            ┆ 0.424242           │\n",
       "  │ 5353911 ┆ 1                   ┆ 210.0               ┆ 210.0               ┆ 0.0                 ┆ 0.0                │\n",
       "  │ 5108839 ┆ 38                  ┆ 16580.0             ┆ 1268.0              ┆ 0.161582            ┆ 0.603736           │\n",
       "  │ 2530232 ┆ 8                   ┆ 7739.0              ┆ 3338.0              ┆ 0.270932            ┆ 0.531532           │\n",
       "  │ 9755222 ┆ 1                   ┆ 247.0               ┆ 247.0               ┆ 0.0                 ┆ 0.0                │\n",
       "  └─────────┴─────────────────────┴─────────────────────┴─────────────────────┴─────────────────────┴────────────────────┘,\n",
       "  3: shape: (797_969, 6)\n",
       "  ┌──────────┬─────────────────────┬─────────────────────┬─────────────────────┬────────────────────┬────────────────────┐\n",
       "  │ user_id  ┆ num_products_order_ ┆ sum_discount_price_ ┆ max_discount_price_ ┆ mean_relative_disc ┆ max_relative_disco │\n",
       "  │ ---      ┆ 60                  ┆ order_60            ┆ order_60            ┆ ount_order_6…      ┆ unt_order_60       │\n",
       "  │ i32      ┆ ---                 ┆ ---                 ┆ ---                 ┆ ---                ┆ ---                │\n",
       "  │          ┆ i32                 ┆ f32                 ┆ f32                 ┆ f32                ┆ f32                │\n",
       "  ╞══════════╪═════════════════════╪═════════════════════╪═════════════════════╪════════════════════╪════════════════════╡\n",
       "  │ 10531377 ┆ 21                  ┆ 6431.0              ┆ 3378.0              ┆ 0.096312           ┆ 0.463895           │\n",
       "  │ 1533008  ┆ 65                  ┆ 8766.0              ┆ 699.0               ┆ 0.059394           ┆ 0.413374           │\n",
       "  │ 9155016  ┆ 29                  ┆ 3013.0              ┆ 245.0               ┆ 0.093435           ┆ 0.506667           │\n",
       "  │ 10331083 ┆ 8                   ┆ 1691.0              ┆ 1114.0              ┆ 0.097403           ┆ 0.554222           │\n",
       "  │ 2348198  ┆ 2                   ┆ 616.0               ┆ 607.0               ┆ 0.056934           ┆ 0.113869           │\n",
       "  │ …        ┆ …                   ┆ …                   ┆ …                   ┆ …                  ┆ …                  │\n",
       "  │ 6046955  ┆ 2                   ┆ 298.0               ┆ 289.0               ┆ 0.163953           ┆ 0.327907           │\n",
       "  │ 6003329  ┆ 3                   ┆ 2769.0              ┆ 2471.0              ┆ 0.243775           ┆ 0.474255           │\n",
       "  │ 6241476  ┆ 1                   ┆ 6790.0              ┆ 6790.0              ┆ 0.0                ┆ 0.0                │\n",
       "  │ 723808   ┆ 2                   ┆ 736.0               ┆ 399.0               ┆ 0.187793           ┆ 0.375587           │\n",
       "  │ 5684628  ┆ 2                   ┆ 214.0               ┆ 115.0               ┆ 0.167367           ┆ 0.168067           │\n",
       "  └──────────┴─────────────────────┴─────────────────────┴─────────────────────┴────────────────────┴────────────────────┘,\n",
       "  5: shape: (1_650_836, 6)\n",
       "  ┌──────────┬─────────────────────┬─────────────────────┬─────────────────────┬────────────────────┬────────────────────┐\n",
       "  │ user_id  ┆ num_products_to_car ┆ sum_discount_price_ ┆ max_discount_price_ ┆ mean_relative_disc ┆ max_relative_disco │\n",
       "  │ ---      ┆ t_60                ┆ to_cart_60          ┆ to_cart_60          ┆ ount_to_cart…      ┆ unt_to_cart_…      │\n",
       "  │ i32      ┆ ---                 ┆ ---                 ┆ ---                 ┆ ---                ┆ ---                │\n",
       "  │          ┆ i32                 ┆ f32                 ┆ f32                 ┆ f32                ┆ f32                │\n",
       "  ╞══════════╪═════════════════════╪═════════════════════╪═════════════════════╪════════════════════╪════════════════════╡\n",
       "  │ 10964191 ┆ 1                   ┆ 523.0               ┆ 523.0               ┆ 0.0                ┆ 0.0                │\n",
       "  │ 3816286  ┆ 1                   ┆ 230.0               ┆ 230.0               ┆ 0.08               ┆ 0.08               │\n",
       "  │ 356700   ┆ 14                  ┆ 3432.0              ┆ 1095.0              ┆ 0.208584           ┆ 0.926951           │\n",
       "  │ 6573006  ┆ 10                  ┆ 2082.0              ┆ 483.0               ┆ 0.060033           ┆ 0.253165           │\n",
       "  │ 7016220  ┆ 3                   ┆ 3093.0              ┆ 1253.0              ┆ 0.696891           ┆ 0.764567           │\n",
       "  │ …        ┆ …                   ┆ …                   ┆ …                   ┆ …                  ┆ …                  │\n",
       "  │ 2976384  ┆ 4                   ┆ 401.0               ┆ 119.0               ┆ 0.250125           ┆ 0.426357           │\n",
       "  │ 7385135  ┆ 1                   ┆ 806.0               ┆ 806.0               ┆ 0.514165           ┆ 0.514165           │\n",
       "  │ 7912895  ┆ 1                   ┆ 1899.0              ┆ 1899.0              ┆ 0.525131           ┆ 0.525131           │\n",
       "  │ 6078916  ┆ 2                   ┆ 785.0               ┆ 595.0               ┆ 0.086806           ┆ 0.173611           │\n",
       "  │ 9558060  ┆ 6                   ┆ 2927.0              ┆ 768.0               ┆ 0.199107           ┆ 0.410138           │\n",
       "  └──────────┴─────────────────────┴─────────────────────┴─────────────────────┴────────────────────┴────────────────────┘,\n",
       "  4: shape: (2_410_093, 2)\n",
       "  ┌─────────┬───────────────┐\n",
       "  │ user_id ┆ num_search_60 │\n",
       "  │ ---     ┆ ---           │\n",
       "  │ i32     ┆ i32           │\n",
       "  ╞═════════╪═══════════════╡\n",
       "  │ 5358181 ┆ 1             │\n",
       "  │ 1451359 ┆ 6             │\n",
       "  │ 8169734 ┆ 1             │\n",
       "  │ 669205  ┆ 71            │\n",
       "  │ 5888796 ┆ 2             │\n",
       "  │ …       ┆ …             │\n",
       "  │ 2527177 ┆ 0             │\n",
       "  │ 520361  ┆ 130           │\n",
       "  │ 2045479 ┆ 46            │\n",
       "  │ 150600  ┆ 4             │\n",
       "  │ 7831981 ┆ 1             │\n",
       "  └─────────┴───────────────┘}}"
      ]
     },
     "execution_count": 13,
     "metadata": {},
     "output_type": "execute_result"
    }
   ],
   "source": [
    "action_aggs_window = {}\n",
    "actions_id_to_suf = {\n",
    "        1: \"click\",\n",
    "        2: \"favorite\",\n",
    "        3: \"order\",\n",
    "        5: \"to_cart\",\n",
    "    }\n",
    "for window in [7, 14, 30, 60]:\n",
    "    action_aggs_window[window] = {}\n",
    "    for id_, suf in tqdm(actions_id_to_suf.items()):\n",
    "        action_aggs_window[window][id_] = (\n",
    "            actions_history\n",
    "            .filter(pl.col('timestamp').dt.date() <= train_end_date)\n",
    "            .filter(pl.col('timestamp').dt.date() >= train_end_date - timedelta(days=window))\n",
    "            .filter(pl.col('action_type_id') == id_)\n",
    "            .join(\n",
    "                product_information\n",
    "                .select('product_id', 'discount_price', 'relative_discount'),\n",
    "                on='product_id',\n",
    "            )\n",
    "            .group_by('user_id')\n",
    "            .agg(\n",
    "                pl.count('product_id').cast(pl.Int32).alias(f'num_products_{suf}_{window}'),\n",
    "                pl.sum('discount_price').cast(pl.Float32).alias(f'sum_discount_price_{suf}_{window}'),\n",
    "                pl.max('discount_price').cast(pl.Float32).alias(f'max_discount_price_{suf}_{window}'),\n",
    "                pl.mean('relative_discount').cast(pl.Float32).alias(f'mean_relative_discount_{suf}_{window}'),\n",
    "                pl.max('relative_discount').cast(pl.Float32).alias(f'max_relative_discount_{suf}_{window}')\n",
    "            )\n",
    "            .select(\n",
    "                'user_id',\n",
    "                f'num_products_{suf}_{window}',\n",
    "                f'sum_discount_price_{suf}_{window}',\n",
    "                f'max_discount_price_{suf}_{window}',\n",
    "                f'mean_relative_discount_{suf}_{window}',\n",
    "                f'max_relative_discount_{suf}_{window}',\n",
    "            )\n",
    "        )\n",
    "id_ = 4\n",
    "suf = 'search'\n",
    "for window in [7, 14, 30, 60]:\n",
    "    action_aggs_window[window][id_] = (\n",
    "        search_history\n",
    "        .filter(pl.col('action_type_id') == id_)\n",
    "        .filter(pl.col('timestamp').dt.date() <= train_end_date)\n",
    "        .filter(pl.col('timestamp').dt.date() >= train_end_date - timedelta(days=window))\n",
    "        .group_by('user_id')\n",
    "        .agg(\n",
    "            pl.count('search_query').cast(pl.Int32).alias(f'num_{suf}_{window}'),\n",
    "        )\n",
    "        .select(\n",
    "            'user_id',\n",
    "            f'num_{suf}_{window}',\n",
    "        )\n",
    "    )\n",
    "for window in [7, 14, 30, 60]:\n",
    "    for action_id in range(1, 6):\n",
    "        df = df.join(action_aggs_window[window][action_id], on=\"user_id\", how=\"left\")\n",
    "action_aggs_window"
   ]
  },
  {
   "cell_type": "markdown",
   "id": "5db23a16-7a65-417a-bfb5-e403bab7d524",
   "metadata": {},
   "source": [
    "### Средняя длина поискового запроса"
   ]
  },
  {
   "cell_type": "code",
   "execution_count": 14,
   "id": "99020855-ad4e-42a6-98e2-7743150372cc",
   "metadata": {},
   "outputs": [],
   "source": [
    "df = df.join(\n",
    "    search_history\n",
    "    .filter(pl.col('timestamp').dt.date() <= train_end_date)\n",
    "    .filter(pl.col('timestamp').dt.date() >= train_end_date - timedelta(days=window))\n",
    "    .group_by(\"user_id\").agg(\n",
    "        pl.col(\"search_query\").len().alias(\"mean_length_of_query\")\n",
    "    ).cast(pl.Int32),\n",
    "    on=\"user_id\", how=\"left\"\n",
    ")"
   ]
  },
  {
   "cell_type": "markdown",
   "id": "17764ca1-918b-48d1-a2d3-8a6aecc3bb46",
   "metadata": {},
   "source": [
    "### Число активностей по виджетам"
   ]
  },
  {
   "cell_type": "code",
   "execution_count": 15,
   "id": "253395e8-2811-4e27-b893-2e6b6982c9ef",
   "metadata": {},
   "outputs": [],
   "source": [
    "df = df.join(\n",
    "    (\n",
    "        actions_history\n",
    "        .filter(pl.col('timestamp').dt.date() <= train_end_date)\n",
    "        .filter(pl.col('timestamp').dt.date() >= train_end_date - timedelta(days=30 * 4))\n",
    "        .pivot(\n",
    "            index=\"user_id\",          # группируем по user_id\n",
    "            on=\"widget_name_id\",      # создаём столбцы для каждого widget_id\n",
    "            values=\"widget_name_id\",       # будем агрегировать по widget_id\n",
    "            aggregate_function=\"len\"      # считаем количество записей\n",
    "        )\n",
    "        .fill_null(0)\n",
    "        .select(\n",
    "            [\"user_id\"] + sorted(list(actions_history['widget_name_id'].unique().cast(pl.String)))\n",
    "        )\n",
    "        .drop(\"13\")\n",
    "        .drop(\"3\")\n",
    "    ), on=\"user_id\", how=\"left\"\n",
    ")\n",
    "\n",
    "df = df.join(\n",
    "    (\n",
    "        search_history\n",
    "        .filter(pl.col('timestamp').dt.date() <= train_end_date)\n",
    "        .filter(pl.col('timestamp').dt.date() >= train_end_date - timedelta(days=30 * 4))\n",
    "        .pivot(\n",
    "            index=\"user_id\",          # группируем по user_id\n",
    "            on=\"widget_name_id\",      # создаём столбцы для каждого widget_id\n",
    "            values=\"widget_name_id\",       # будем агрегировать по widget_id\n",
    "            aggregate_function=\"len\"      # считаем количество записей\n",
    "        )\n",
    "        .fill_null(0)\n",
    "        .select(\n",
    "            [\"user_id\"] + sorted(list(search_history['widget_name_id'].unique().cast(pl.String)))\n",
    "        )\n",
    "    ), on=\"user_id\", how=\"left\"\n",
    ")"
   ]
  },
  {
   "cell_type": "markdown",
   "id": "fe2dae9b-ef7b-476c-a110-c67c45694918",
   "metadata": {},
   "source": [
    "## Categorical features"
   ]
  },
  {
   "cell_type": "markdown",
   "id": "0237f574-0814-4c0f-b6be-66b434b411a9",
   "metadata": {},
   "source": [
    "#### Был ли заказ за последний месяц, два месяца, три месяца"
   ]
  },
  {
   "cell_type": "code",
   "execution_count": 16,
   "id": "8594528b-de95-47bc-bfc2-3cb11ec2ddb2",
   "metadata": {},
   "outputs": [],
   "source": [
    "df = df.join(\n",
    "    (\n",
    "        actions_history\n",
    "        .filter(pl.col('timestamp').dt.date() <= train_end_date)\n",
    "        .filter(pl.col('timestamp').dt.date() >= train_end_date - timedelta(days=30 * 4))\n",
    "        .filter(pl.col('action_type_id') == 3).group_by(\"user_id\")\n",
    "        .agg(\n",
    "            pl.col(\"timestamp\").max().alias(\"last_order_ts\"),\n",
    "            purchased_last_month=pl.col(\"timestamp\")\n",
    "                .filter(pl.col(\"timestamp\") >= train_end_date - timedelta(days=30))\n",
    "                .count() > 0,\n",
    "            purchased_last_2months=pl.col(\"timestamp\")\n",
    "                .filter(pl.col(\"timestamp\") >= train_end_date - timedelta(days=30 * 2))\n",
    "                .count() > 0,\n",
    "            purchased_last_3months=pl.col(\"timestamp\")\n",
    "                .filter(pl.col(\"timestamp\") >= train_end_date - timedelta(days=30 * 3))\n",
    "                .count() > 0\n",
    "        )\n",
    "    ).drop(\"last_order_ts\"),\n",
    "    on=\"user_id\", how=\"left\"\n",
    ")\n",
    "df = df.with_columns(pl.col(\"purchased_last_month\").fill_null(False))\n",
    "df = df.with_columns(pl.col(\"purchased_last_2months\").fill_null(False))\n",
    "df = df.with_columns(pl.col(\"purchased_last_3months\").fill_null(False))"
   ]
  },
  {
   "cell_type": "markdown",
   "id": "c3182be2-6e39-43fb-9478-1d18ed305121",
   "metadata": {},
   "source": [
    "#### Было ли добавление в корзину за последний месяц, два месяца, три месяца"
   ]
  },
  {
   "cell_type": "code",
   "execution_count": 17,
   "id": "c06edc3b-e677-4e1c-810f-0b369e298f67",
   "metadata": {},
   "outputs": [],
   "source": [
    "df = df.join(\n",
    "    (\n",
    "        actions_history\n",
    "        .filter(pl.col('timestamp').dt.date() <= train_end_date)\n",
    "        .filter(pl.col('timestamp').dt.date() >= train_end_date - timedelta(days=30 * 4))\n",
    "        .filter(pl.col('action_type_id') == 5).group_by(\"user_id\")\n",
    "        .agg(\n",
    "            pl.col(\"timestamp\").max().alias(\"last_to_cart_ts\"),\n",
    "            to_cart_last_month=pl.col(\"timestamp\")\n",
    "                .filter(pl.col(\"timestamp\") >= train_end_date - timedelta(days=30))\n",
    "                .count() > 0,\n",
    "            to_cart_last_2months=pl.col(\"timestamp\")\n",
    "                .filter(pl.col(\"timestamp\") >= train_end_date - timedelta(days=30 * 2))\n",
    "                .count() > 0,\n",
    "            to_cart_last_3months=pl.col(\"timestamp\")\n",
    "                .filter(pl.col(\"timestamp\") >= train_end_date - timedelta(days=30 * 3))\n",
    "                .count() > 0\n",
    "        )\n",
    "    ).drop(\"last_to_cart_ts\"),\n",
    "    on=\"user_id\", how=\"left\"\n",
    ")\n",
    "\n",
    "df = df.with_columns(pl.col(\"to_cart_last_month\").fill_null(False))\n",
    "df = df.with_columns(pl.col(\"to_cart_last_2months\").fill_null(False))\n",
    "df = df.with_columns(pl.col(\"to_cart_last_3months\").fill_null(False))"
   ]
  },
  {
   "cell_type": "markdown",
   "id": "678a720b-9e88-4e5c-baaf-60a6cb8d4774",
   "metadata": {},
   "source": [
    "### Топ-k категорий товаров на виды активности"
   ]
  },
  {
   "cell_type": "code",
   "execution_count": 18,
   "id": "9982abae-b64d-43ea-a059-3b761d1ae8d9",
   "metadata": {},
   "outputs": [
    {
     "data": {
      "application/vnd.jupyter.widget-view+json": {
       "model_id": "22f65f761b614bb08e67a33f6f44c156",
       "version_major": 2,
       "version_minor": 0
      },
      "text/plain": [
       "  0%|          | 0/4 [00:00<?, ?it/s]"
      ]
     },
     "metadata": {},
     "output_type": "display_data"
    }
   ],
   "source": [
    "k = 3\n",
    "actions_id_to_suf = {\n",
    "    1: \"click\",\n",
    "    2: \"favorite\",\n",
    "    3: \"order\",\n",
    "    5: \"to_cart\",\n",
    "}\n",
    "for id_, suf in tqdm(actions_id_to_suf.items()):\n",
    "    df = df.join(\n",
    "        (\n",
    "            actions_history\n",
    "            .filter(pl.col('timestamp').dt.date() <= train_end_date)\n",
    "            .filter(pl.col('timestamp').dt.date() >= train_end_date - timedelta(days=30 * 4))\n",
    "            .filter(pl.col(\"action_type_id\") == id_)\n",
    "            .join(\n",
    "                product_information.select([\"product_id\", \"category_name\"]),\n",
    "                on=\"product_id\",\n",
    "            )\n",
    "            .group_by(\"user_id\", \"category_name\")\n",
    "            .agg(pl.len().alias(\"count\"))\n",
    "            .with_columns(\n",
    "                pl.col(\"category_name\").sort_by(by=[\"count\", \"category_name\"], descending=[True, False])\n",
    "                .over(\"user_id\")\n",
    "                .alias(\"sorted_values\")\n",
    "            )\n",
    "            .group_by(\"user_id\")\n",
    "            .agg(pl.col(\"sorted_values\").head(k).alias(\"top_values\"))\n",
    "            .with_columns(\n",
    "                pl.col(\"top_values\").list.to_struct(fields=[f\"top{i}_cat_in_{suf}\" for i in range(1, k + 1)])\n",
    "            )\n",
    "            .unnest(columns=\"top_values\")\n",
    "        ),\n",
    "        on='user_id', how='left'\n",
    "    )\n",
    "    \n",
    "for col in [col for col in df.columns if col.find(\"cat\") != -1]:\n",
    "    df = df.with_columns(pl.col(col).fill_null(\"\"))"
   ]
  },
  {
   "cell_type": "markdown",
   "id": "b5b88b43-1281-495f-b809-511749b71e0e",
   "metadata": {},
   "source": [
    "### Топ-k типов виджетов на виды активности"
   ]
  },
  {
   "cell_type": "code",
   "execution_count": 19,
   "id": "0417a63c-455c-46ad-a427-a3fd3babe516",
   "metadata": {},
   "outputs": [
    {
     "data": {
      "application/vnd.jupyter.widget-view+json": {
       "model_id": "19fc2a4da3404d9fafaae5182a6799a3",
       "version_major": 2,
       "version_minor": 0
      },
      "text/plain": [
       "  0%|          | 0/3 [00:00<?, ?it/s]"
      ]
     },
     "metadata": {},
     "output_type": "display_data"
    }
   ],
   "source": [
    "actions_id_to_suf = {\n",
    "    1: \"click\",\n",
    "    2: \"favorite\",\n",
    "    # 3: \"order\", так как в заказе только один виджет, нет смысла\n",
    "    5: \"to_cart\",\n",
    "}\n",
    "for id_, suf in tqdm(actions_id_to_suf.items()):\n",
    "    df = df.join(\n",
    "        (\n",
    "            actions_history\n",
    "            .filter(pl.col('timestamp').dt.date() <= train_end_date)\n",
    "            .filter(pl.col('timestamp').dt.date() >= train_end_date - timedelta(days=30 * 4))\n",
    "            .filter(pl.col(\"action_type_id\") == id_)\n",
    "            .group_by(\"user_id\", \"widget_name_id\")\n",
    "            .agg(pl.len().alias(\"count\"))\n",
    "            .with_columns(\n",
    "                pl.col(\"widget_name_id\").sort_by(by=[\"count\", \"widget_name_id\"], descending=[True, False])\n",
    "                .over(\"user_id\")\n",
    "                .alias(\"sorted_values\")\n",
    "            )\n",
    "            .group_by(\"user_id\")\n",
    "            .agg(pl.col(\"sorted_values\").head(k).alias(\"top_values\"))\n",
    "            .with_columns(\n",
    "                pl.col(\"top_values\").list.to_struct(fields=[f\"top{i}_widget_in_{suf}\" for i in range(1, k + 1)])\n",
    "            )\n",
    "            .unnest(columns=\"top_values\")\n",
    "        ),\n",
    "        on='user_id', how='left'\n",
    "    )\n",
    "\n",
    "df = df.join(\n",
    "        (\n",
    "        search_history\n",
    "        .filter(pl.col('timestamp').dt.date() <= train_end_date)\n",
    "        .filter(pl.col('timestamp').dt.date() >= train_end_date - timedelta(days=30 * 4))\n",
    "        .filter(pl.col(\"action_type_id\") == 4)\n",
    "        .group_by(\"user_id\", \"widget_name_id\")\n",
    "        .agg(pl.len().alias(\"count\"))\n",
    "        .with_columns(\n",
    "            pl.col(\"widget_name_id\").sort_by(by=[\"count\", \"widget_name_id\"], descending=[True, False])\n",
    "            .over(\"user_id\")\n",
    "            .alias(\"sorted_values\")\n",
    "        )\n",
    "        .group_by(\"user_id\")\n",
    "        .agg(pl.col(\"sorted_values\").head(k).alias(\"top_values\"))\n",
    "        .with_columns(\n",
    "            pl.col(\"top_values\").list.to_struct(fields=[f\"top{i}_widget_in_search\" for i in range(1, k + 1)])\n",
    "        ).unnest(columns=\"top_values\")\n",
    "    ),\n",
    "    on='user_id', how='left'\n",
    ")\n",
    "\n",
    "for col in [col for col in df.columns if col.find(\"widget\") != -1]:\n",
    "    df = df.with_columns(pl.col(col).fill_null(0))"
   ]
  },
  {
   "cell_type": "markdown",
   "id": "00153495-127e-4f31-9cb0-b5b6b819f554",
   "metadata": {},
   "source": [
    "## Обучение модели"
   ]
  },
  {
   "cell_type": "code",
   "execution_count": 20,
   "id": "ecc97ffe",
   "metadata": {},
   "outputs": [],
   "source": [
    "df_pd = df.to_pandas()"
   ]
  },
  {
   "cell_type": "code",
   "execution_count": 21,
   "id": "8727426f",
   "metadata": {},
   "outputs": [],
   "source": [
    "mask = df_pd.user_id % 10 <= 6"
   ]
  },
  {
   "cell_type": "code",
   "execution_count": 22,
   "id": "111d1355",
   "metadata": {},
   "outputs": [
    {
     "data": {
      "text/plain": [
       "Index(['user_id', 'target', 'num_products_click', 'sum_discount_price_click',\n",
       "       'max_discount_price_click', 'mean_relative_discount_click',\n",
       "       'max_relative_discount_click', 'days_since_last_click',\n",
       "       'days_since_first_click', 'num_products_favorite',\n",
       "       ...\n",
       "       'top3_widget_in_click', 'top1_widget_in_favorite',\n",
       "       'top2_widget_in_favorite', 'top3_widget_in_favorite',\n",
       "       'top1_widget_in_to_cart', 'top2_widget_in_to_cart',\n",
       "       'top3_widget_in_to_cart', 'top1_widget_in_search',\n",
       "       'top2_widget_in_search', 'top3_widget_in_search'],\n",
       "      dtype='object', length=178)"
      ]
     },
     "execution_count": 22,
     "metadata": {},
     "output_type": "execute_result"
    }
   ],
   "source": [
    "df_pd.columns"
   ]
  },
  {
   "cell_type": "code",
   "execution_count": 23,
   "id": "12c2a743",
   "metadata": {},
   "outputs": [],
   "source": [
    "actions_id_to_suf = {\n",
    "    1: \"click\",\n",
    "    2: \"favorite\",\n",
    "    3: \"order\",\n",
    "    4: \"search\",\n",
    "    5: \"to_cart\",\n",
    "}\n",
    "cols = [col for col in df_pd.columns if col not in ['user_id', 'target']]\n",
    "cat_features = (\n",
    "    [\n",
    "        \"purchased_last_month\",\n",
    "        \"purchased_last_2months\",\n",
    "        \"purchased_last_3months\",\n",
    "        \"to_cart_last_month\",\n",
    "        \"to_cart_last_2months\",\n",
    "        \"to_cart_last_3months\",\n",
    "    ]\n",
    "    + [\n",
    "        f\"top{i}_cat_in_{actions_id_to_suf[id_]}\"\n",
    "        for i in range(1, k + 1)\n",
    "        for id_ in [1, 2, 3, 5]\n",
    "    ]\n",
    "    + [\n",
    "        f\"top{i}_widget_in_{actions_id_to_suf[id_]}\"\n",
    "        for i in range(1, k + 1)\n",
    "        for id_ in [1, 2, 4, 5]\n",
    "    ]\n",
    ")"
   ]
  },
  {
   "cell_type": "markdown",
   "id": "458f164b-e3ae-44a0-b866-f3d53f28164f",
   "metadata": {},
   "source": [
    "#### CatBoost"
   ]
  },
  {
   "cell_type": "code",
   "execution_count": null,
   "id": "123cc884-e2f4-410c-9598-4b4284a0e6ab",
   "metadata": {},
   "outputs": [],
   "source": [
    "train_pool = catboost.Pool(\n",
    "    df_pd.loc[mask, cols],\n",
    "    label=df_pd.loc[mask].target,\n",
    "    cat_features=cat_features\n",
    ")\n",
    "eval_pool = catboost.Pool(\n",
    "    df_pd.loc[~mask, cols],\n",
    "    label=df_pd.loc[~mask].target,\n",
    "    cat_features=cat_features\n",
    ")"
   ]
  },
  {
   "cell_type": "code",
   "execution_count": null,
   "id": "7b50f14e-f322-4282-a083-5c734e880ec7",
   "metadata": {},
   "outputs": [],
   "source": [
    "train_pool.shape, eval_pool.shape"
   ]
  },
  {
   "cell_type": "code",
   "execution_count": null,
   "id": "5ee93098-acf5-42df-843c-f2fc1012b38f",
   "metadata": {},
   "outputs": [],
   "source": [
    "params = {\n",
    "    'iterations': 200,\n",
    "    'depth': 7, \n",
    "    'learning_rate': 0.1, \n",
    "    'random_state': 1,\n",
    "    'eval_metric': 'AUC',\n",
    "    'loss_function': 'Logloss',\n",
    "    'task_type': 'GPU',\n",
    "}"
   ]
  },
  {
   "cell_type": "code",
   "execution_count": null,
   "id": "af32c5c9-791b-412b-8285-1eae9d29e8c4",
   "metadata": {},
   "outputs": [],
   "source": [
    "model = catboost.CatBoost(params)\n",
    "model.fit(\n",
    "    train_pool, \n",
    "    eval_set=eval_pool,\n",
    "    use_best_model=True,\n",
    "    verbose=10,\n",
    "    early_stopping_rounds=50,\n",
    ")"
   ]
  },
  {
   "cell_type": "code",
   "execution_count": null,
   "id": "6a47c9b8-4d6b-4703-8868-13194baf3196",
   "metadata": {
    "scrolled": true
   },
   "outputs": [],
   "source": [
    "fi = model.get_feature_importance(eval_pool, prettified=True)\n",
    "fi.head(50)"
   ]
  },
  {
   "cell_type": "markdown",
   "id": "39712156-97a7-41cb-9729-b990e985dc80",
   "metadata": {
    "jp-MarkdownHeadingCollapsed": true
   },
   "source": [
    "#### LighGBM"
   ]
  },
  {
   "cell_type": "raw",
   "id": "044517f6-9b84-4a0a-a154-18444d3ebf3d",
   "metadata": {},
   "source": [
    "for col in cat_features:\n",
    "    df_pd[col] = df_pd[col].astype('category')"
   ]
  },
  {
   "cell_type": "raw",
   "id": "c16e7561-2b7d-4606-b1f1-679ce1ef60f5",
   "metadata": {},
   "source": [
    "train_data = lgb.Dataset(\n",
    "    df_pd.loc[mask, cols],\n",
    "    label=df_pd.loc[mask, 'target'],\n",
    "    categorical_feature=cat_features\n",
    ")\n",
    "eval_data = lgb.Dataset(\n",
    "    df_pd.loc[~mask, cols],\n",
    "    label=df_pd.loc[~mask, 'target'],\n",
    "    categorical_feature=cat_features,\n",
    "    reference=train_data\n",
    ")"
   ]
  },
  {
   "cell_type": "raw",
   "id": "b165440e-eb55-444a-84f3-d114d2eb6265",
   "metadata": {},
   "source": [
    "params = {\n",
    "    'objective': 'binary',\n",
    "    'metric': 'auc',\n",
    "    'learning_rate': 0.1,\n",
    "    'max_depth': 7,\n",
    "    'seed': 1,\n",
    "    # 'device_type': 'gpu',  # Использование GPU\n",
    "    'verbose': -1,\n",
    "    'num_threads': 0  # Использовать все ядра\n",
    "}"
   ]
  },
  {
   "cell_type": "raw",
   "id": "b62d2b74-3294-4d49-af0a-a9755d5976cd",
   "metadata": {},
   "source": [
    "model = lgb.train(\n",
    "    params,\n",
    "    train_data,\n",
    "    num_boost_round=200,\n",
    "    valid_sets=[eval_data],\n",
    "    callbacks=[\n",
    "        lgb.early_stopping(stopping_rounds=50),\n",
    "        lgb.log_evaluation(period=10)\n",
    "    ]\n",
    ")"
   ]
  },
  {
   "cell_type": "markdown",
   "id": "5bf488c1-feb0-4c98-a925-cf1ce6d471ff",
   "metadata": {},
   "source": [
    "# Prediction on Test"
   ]
  },
  {
   "cell_type": "code",
   "execution_count": 28,
   "id": "fbef95c1",
   "metadata": {},
   "outputs": [],
   "source": [
    "test_users_submission = (\n",
    "    pl.read_csv(os.path.join(data_path, 'test_users.csv'))\n",
    ")"
   ]
  },
  {
   "cell_type": "code",
   "execution_count": 29,
   "id": "0d0beb27",
   "metadata": {},
   "outputs": [
    {
     "data": {
      "application/vnd.jupyter.widget-view+json": {
       "model_id": "d1f6cf3b4462413487b800c8bb26c8f4",
       "version_major": 2,
       "version_minor": 0
      },
      "text/plain": [
       "  0%|          | 0/4 [00:00<?, ?it/s]"
      ]
     },
     "metadata": {},
     "output_type": "display_data"
    }
   ],
   "source": [
    "actions_aggs = {}\n",
    "actions_id_to_suf = {\n",
    "    1: \"click\",\n",
    "    2: \"favorite\",\n",
    "    3: \"order\",\n",
    "    5: \"to_cart\",\n",
    "}\n",
    "for id_, suf in tqdm(actions_id_to_suf.items()):\n",
    "    aggs = (\n",
    "        actions_history\n",
    "        .filter(pl.col('timestamp').dt.date() <= val_end_date)\n",
    "        .filter(pl.col('timestamp').dt.date() >= val_end_date - timedelta(days=30 * 4))\n",
    "        .filter(pl.col('action_type_id') == id_)\n",
    "        .join(\n",
    "            product_information\n",
    "            .select('product_id', 'discount_price', 'relative_discount'),\n",
    "            on='product_id',\n",
    "        )\n",
    "        .group_by('user_id')\n",
    "        .agg(\n",
    "            pl.count('product_id').cast(pl.Int32).alias(f'num_products_{suf}'),\n",
    "            pl.sum('discount_price').cast(pl.Float32).alias(f'sum_discount_price_{suf}'),\n",
    "            pl.max('discount_price').cast(pl.Float32).alias(f'max_discount_price_{suf}'),\n",
    "            pl.mean('relative_discount').cast(pl.Float32).alias(f'mean_relative_discount_{suf}'), # new\n",
    "            pl.max('relative_discount').cast(pl.Float32).alias(f'max_relative_discount_{suf}'), # new\n",
    "            pl.max('timestamp').alias(f'last_{suf}_time'),\n",
    "            pl.min('timestamp').alias(f'first_{suf}_time'),\n",
    "        )\n",
    "        .with_columns([\n",
    "            (pl.lit(val_start_date) - pl.col(f'last_{suf}_time'))\n",
    "            .dt.total_days()\n",
    "            .cast(pl.Int32)\n",
    "            .alias(f'days_since_last_{suf}'),\n",
    "            \n",
    "            (pl.lit(val_start_date) - pl.col(f'first_{suf}_time'))\n",
    "            .dt.total_days()\n",
    "            .cast(pl.Int32)\n",
    "            .alias(f'days_since_first_{suf}'),\n",
    "        ])\n",
    "        .select(\n",
    "            'user_id',\n",
    "            f'num_products_{suf}',\n",
    "            f'sum_discount_price_{suf}',\n",
    "            f'max_discount_price_{suf}',\n",
    "            f'mean_relative_discount_{suf}',\n",
    "            f'max_relative_discount_{suf}',\n",
    "            f'days_since_last_{suf}',\n",
    "            f'days_since_first_{suf}',\n",
    "        )\n",
    "    )\n",
    "    actions_aggs[id_] = aggs"
   ]
  },
  {
   "cell_type": "code",
   "execution_count": 30,
   "id": "4e8ff0f7",
   "metadata": {},
   "outputs": [],
   "source": [
    "# search_aggs\n",
    "id_ = 4\n",
    "suf = 'search'\n",
    "actions_aggs[id_] = (\n",
    "    search_history\n",
    "    .filter(pl.col('action_type_id') == id_)\n",
    "    .filter(pl.col('timestamp').dt.date() <= val_end_date)\n",
    "    .filter(pl.col('timestamp').dt.date() >= val_end_date - timedelta(days=30 * 4))\n",
    "    .group_by('user_id')\n",
    "    .agg(\n",
    "        pl.count('search_query').cast(pl.Int32).alias(f'num_{suf}'),\n",
    "        pl.max('timestamp').alias(f'last_{suf}_time'),\n",
    "        pl.min('timestamp').alias(f'first_{suf}_time'),\n",
    "    )\n",
    "    .with_columns([\n",
    "        (pl.lit(test_start_date) - pl.col(f'last_{suf}_time'))\n",
    "        .dt.total_days()\n",
    "        .cast(pl.Int32)\n",
    "        .alias(f'days_since_last_{suf}'),\n",
    "\n",
    "        (pl.lit(test_start_date) - pl.col(f'first_{suf}_time'))\n",
    "        .dt.total_days()\n",
    "        .cast(pl.Int32)\n",
    "        .alias(f'days_since_first_{suf}'),\n",
    "    ])\n",
    "    .select(\n",
    "        'user_id',\n",
    "        f'num_{suf}',\n",
    "        f'days_since_last_{suf}',\n",
    "        f'days_since_first_{suf}',\n",
    "    )\n",
    ")"
   ]
  },
  {
   "cell_type": "code",
   "execution_count": 31,
   "id": "084f82fd",
   "metadata": {},
   "outputs": [],
   "source": [
    "df = test_users_submission\n",
    "for _, actions_aggs_df in actions_aggs.items():\n",
    "    df = (\n",
    "        df\n",
    "        .join(actions_aggs_df, on='user_id', how='left')\n",
    "    )"
   ]
  },
  {
   "cell_type": "markdown",
   "id": "fd9f3981-6af2-4d79-81a1-2543d14b2a50",
   "metadata": {},
   "source": [
    "### Конверсии"
   ]
  },
  {
   "cell_type": "code",
   "execution_count": 32,
   "id": "08be96dc-af60-496a-a576-21306098822a",
   "metadata": {},
   "outputs": [],
   "source": [
    "conversion_list = [\n",
    "    ('click', 'favorite'),\n",
    "    ('click', 'to_cart'),\n",
    "    ('click', 'order'),\n",
    "    ('favorite', 'to_cart'),\n",
    "    ('favorite', 'order'),\n",
    "    ('to_cart', 'order')\n",
    "]\n",
    "df_conversions = {}\n",
    "# конверсия из A в B\n",
    "for A, B in conversion_list:\n",
    "    df_conversions[f\"{A}_to_{B}\"] = (\n",
    "        df.filter((pl.col(f\"num_products_{A}\") > 0) & (pl.col(f\"num_products_{B}\") > 0))\n",
    "        .with_columns(\n",
    "            (pl.col(f\"num_products_{B}\") / pl.col(f\"num_products_{A}\")).alias(\n",
    "                f\"{A}_to_{B}\"\n",
    "            ),\n",
    "        ).select([\"user_id\", f\"{A}_to_{B}\"])\n",
    "    )\n",
    "for A, B in conversion_list:\n",
    "    df = df.join(df_conversions[f\"{A}_to_{B}\"], on=\"user_id\", how=\"left\")"
   ]
  },
  {
   "cell_type": "markdown",
   "id": "8f5ba209-759f-4531-894b-76224456405a",
   "metadata": {},
   "source": [
    "### Окна по 7 / 14 / 30 / 60 дней"
   ]
  },
  {
   "cell_type": "code",
   "execution_count": 33,
   "id": "7077c234-aac8-4190-99bd-ba332dc5124f",
   "metadata": {},
   "outputs": [
    {
     "data": {
      "application/vnd.jupyter.widget-view+json": {
       "model_id": "9db018f252e64e339b357bc9bcfd425b",
       "version_major": 2,
       "version_minor": 0
      },
      "text/plain": [
       "  0%|          | 0/4 [00:00<?, ?it/s]"
      ]
     },
     "metadata": {},
     "output_type": "display_data"
    },
    {
     "data": {
      "application/vnd.jupyter.widget-view+json": {
       "model_id": "c0a583124eab4907b1cf7a857c2e7fc5",
       "version_major": 2,
       "version_minor": 0
      },
      "text/plain": [
       "  0%|          | 0/4 [00:00<?, ?it/s]"
      ]
     },
     "metadata": {},
     "output_type": "display_data"
    },
    {
     "data": {
      "application/vnd.jupyter.widget-view+json": {
       "model_id": "9e92a85e93794a02a7bc8dd90b07505e",
       "version_major": 2,
       "version_minor": 0
      },
      "text/plain": [
       "  0%|          | 0/4 [00:00<?, ?it/s]"
      ]
     },
     "metadata": {},
     "output_type": "display_data"
    },
    {
     "data": {
      "application/vnd.jupyter.widget-view+json": {
       "model_id": "1cbeea5790414cef87d1c63b46a767f4",
       "version_major": 2,
       "version_minor": 0
      },
      "text/plain": [
       "  0%|          | 0/4 [00:00<?, ?it/s]"
      ]
     },
     "metadata": {},
     "output_type": "display_data"
    }
   ],
   "source": [
    "action_aggs_window = {}\n",
    "actions_id_to_suf = {\n",
    "        1: \"click\",\n",
    "        2: \"favorite\",\n",
    "        3: \"order\",\n",
    "        5: \"to_cart\",\n",
    "    }\n",
    "for window in [7, 14, 30, 60]:\n",
    "    action_aggs_window[window] = {}\n",
    "    for id_, suf in tqdm(actions_id_to_suf.items()):\n",
    "        action_aggs_window[window][id_] = (\n",
    "            actions_history\n",
    "            .filter(pl.col('timestamp').dt.date() <= val_end_date)\n",
    "            .filter(pl.col('timestamp').dt.date() >= val_end_date - timedelta(days=window))\n",
    "            .filter(pl.col('action_type_id') == id_)\n",
    "            .join(\n",
    "                product_information\n",
    "                .select('product_id', 'discount_price', 'relative_discount'),\n",
    "                on='product_id',\n",
    "            )\n",
    "            .group_by('user_id')\n",
    "            .agg(\n",
    "                pl.count('product_id').cast(pl.Int32).alias(f'num_products_{suf}_{window}'),\n",
    "                pl.sum('discount_price').cast(pl.Float32).alias(f'sum_discount_price_{suf}_{window}'),\n",
    "                pl.max('discount_price').cast(pl.Float32).alias(f'max_discount_price_{suf}_{window}'),\n",
    "                pl.mean('relative_discount').cast(pl.Float32).alias(f'mean_relative_discount_{suf}_{window}'),\n",
    "                pl.max('relative_discount').cast(pl.Float32).alias(f'max_relative_discount_{suf}_{window}')\n",
    "            )\n",
    "            .select(\n",
    "                'user_id',\n",
    "                f'num_products_{suf}_{window}',\n",
    "                f'sum_discount_price_{suf}_{window}',\n",
    "                f'max_discount_price_{suf}_{window}',\n",
    "                f'mean_relative_discount_{suf}_{window}',\n",
    "                f'max_relative_discount_{suf}_{window}',\n",
    "            )\n",
    "        )\n",
    "id_ = 4\n",
    "suf = 'search'\n",
    "for window in [7, 14, 30, 60]:\n",
    "    action_aggs_window[window][id_] = (\n",
    "        search_history\n",
    "        .filter(pl.col('action_type_id') == id_)\n",
    "        .filter(pl.col('timestamp').dt.date() <= val_end_date)\n",
    "        .filter(pl.col('timestamp').dt.date() >= val_end_date - timedelta(days=window))\n",
    "        .group_by('user_id')\n",
    "        .agg(\n",
    "            pl.count('search_query').cast(pl.Int32).alias(f'num_{suf}_{window}'),\n",
    "        )\n",
    "        .select(\n",
    "            'user_id',\n",
    "            f'num_{suf}_{window}',\n",
    "        )\n",
    "    )\n",
    "for window in [7, 14, 30, 60]:\n",
    "    for action_id in range(1, 6):\n",
    "        df = df.join(action_aggs_window[window][action_id], on=\"user_id\", how=\"left\")"
   ]
  },
  {
   "cell_type": "markdown",
   "id": "fae90a72-26df-46dc-968b-7c0213f4ee94",
   "metadata": {},
   "source": [
    "### Средняя длина поискового запроса"
   ]
  },
  {
   "cell_type": "code",
   "execution_count": 34,
   "id": "52b1eedb-e1a2-4091-bdfb-811597f77de7",
   "metadata": {},
   "outputs": [],
   "source": [
    "df = df.join(\n",
    "    search_history\n",
    "    .filter(pl.col('timestamp').dt.date() <= val_end_date)\n",
    "    .filter(pl.col('timestamp').dt.date() >= val_end_date - timedelta(days=window))\n",
    "    .group_by(\"user_id\").agg(\n",
    "        pl.col(\"search_query\").len().alias(\"mean_length_of_query\")\n",
    "    ).cast(pl.Int32),\n",
    "    on=\"user_id\", how=\"left\"\n",
    ")"
   ]
  },
  {
   "cell_type": "markdown",
   "id": "558350a6-ea31-4d1d-acdf-f50108193739",
   "metadata": {},
   "source": [
    "### Число активностей по виджетам"
   ]
  },
  {
   "cell_type": "code",
   "execution_count": 35,
   "id": "0250367b-54de-4604-a0fd-9a5fd131b62c",
   "metadata": {},
   "outputs": [],
   "source": [
    "widget_actions_list = sorted(list((\n",
    "                actions_history\n",
    "                .filter(pl.col('timestamp').dt.date() <= val_end_date)\n",
    "                .filter(pl.col('timestamp').dt.date() >= val_end_date - timedelta(days=30 * 4))\n",
    "            )['widget_name_id'].unique().cast(pl.String)))\n",
    "widget_actions_list = [col for col in widget_actions_list if col not in ['3', '13']]\n",
    "\n",
    "df = df.join(\n",
    "    (\n",
    "        actions_history\n",
    "        .filter(pl.col('timestamp').dt.date() <= val_end_date)\n",
    "        .filter(pl.col('timestamp').dt.date() >= val_end_date - timedelta(days=30 * 4))\n",
    "        .pivot(\n",
    "            index=\"user_id\",          # группируем по user_id\n",
    "            on=\"widget_name_id\",      # создаём столбцы для каждого widget_id\n",
    "            values=\"widget_name_id\",       # будем агрегировать по widget_id\n",
    "            aggregate_function=\"len\"      # считаем количество записей\n",
    "        )\n",
    "        .fill_null(0)\n",
    "        .select(\n",
    "            [\"user_id\"] + widget_actions_list\n",
    "        )\n",
    "    ), on=\"user_id\", how=\"left\"\n",
    ")\n",
    "\n",
    "df = df.join(\n",
    "    (\n",
    "        search_history\n",
    "        .filter(pl.col('timestamp').dt.date() <= val_end_date)\n",
    "        .filter(pl.col('timestamp').dt.date() >= val_end_date - timedelta(days=30 * 4))\n",
    "        .pivot(\n",
    "            index=\"user_id\",          # группируем по user_id\n",
    "            on=\"widget_name_id\",      # создаём столбцы для каждого widget_id\n",
    "            values=\"widget_name_id\",       # будем агрегировать по widget_id\n",
    "            aggregate_function=\"len\"      # считаем количество записей\n",
    "        )\n",
    "        .fill_null(0)\n",
    "        .select(\n",
    "            [\"user_id\"] + sorted(list((\n",
    "                search_history\n",
    "                .filter(pl.col('timestamp').dt.date() <= val_end_date)\n",
    "                .filter(pl.col('timestamp').dt.date() >= val_end_date - timedelta(days=30 * 4))\n",
    "            )['widget_name_id'].unique().cast(pl.String)))\n",
    "        )\n",
    "    ), on=\"user_id\", how=\"left\"\n",
    ")"
   ]
  },
  {
   "cell_type": "markdown",
   "id": "a49b2bd4-113c-4209-8324-b2ce7944cc5c",
   "metadata": {},
   "source": [
    "## Categorical features"
   ]
  },
  {
   "cell_type": "markdown",
   "id": "7aa34de1-a5c8-4685-975d-613d90e41199",
   "metadata": {},
   "source": [
    "#### Был ли заказ за последний месяц, два месяца, три месяца"
   ]
  },
  {
   "cell_type": "code",
   "execution_count": 36,
   "id": "31f02594-f8cf-4cfc-b9cf-4b462044461f",
   "metadata": {},
   "outputs": [],
   "source": [
    "df = df.join(\n",
    "    (\n",
    "        actions_history\n",
    "        .filter(pl.col('timestamp').dt.date() <= val_end_date)\n",
    "        .filter(pl.col('timestamp').dt.date() >= val_end_date - timedelta(days=30 * 4))\n",
    "        .filter(pl.col('action_type_id') == 3).group_by(\"user_id\")\n",
    "        .agg(\n",
    "            pl.col(\"timestamp\").max().alias(\"last_order_ts\"),\n",
    "            purchased_last_month=pl.col(\"timestamp\")\n",
    "                .filter(pl.col(\"timestamp\") >= val_end_date - timedelta(days=30))\n",
    "                .count() > 0,\n",
    "            purchased_last_2months=pl.col(\"timestamp\")\n",
    "                .filter(pl.col(\"timestamp\") >= val_end_date - timedelta(days=30 * 2))\n",
    "                .count() > 0,\n",
    "            purchased_last_3months=pl.col(\"timestamp\")\n",
    "                .filter(pl.col(\"timestamp\") >= val_end_date - timedelta(days=30 * 3))\n",
    "                .count() > 0\n",
    "        )\n",
    "    ).drop(\"last_order_ts\"),\n",
    "    on=\"user_id\", how=\"left\"\n",
    ")\n",
    "df = df.with_columns(pl.col(\"purchased_last_month\").fill_null(False))\n",
    "df = df.with_columns(pl.col(\"purchased_last_2months\").fill_null(False))\n",
    "df = df.with_columns(pl.col(\"purchased_last_3months\").fill_null(False))"
   ]
  },
  {
   "cell_type": "markdown",
   "id": "b0f16b5d-50a2-464f-95eb-d4e1c7306afb",
   "metadata": {},
   "source": [
    "#### Было ли добавление в корзину за последний месяц, два месяца, три месяца"
   ]
  },
  {
   "cell_type": "code",
   "execution_count": 37,
   "id": "c675d00a-02b4-43e2-a809-184e95ebf0b0",
   "metadata": {},
   "outputs": [],
   "source": [
    "df = df.join(\n",
    "    (\n",
    "        actions_history\n",
    "        .filter(pl.col('timestamp').dt.date() <= val_end_date)\n",
    "        .filter(pl.col('timestamp').dt.date() >= val_end_date - timedelta(days=30 * 4))\n",
    "        .filter(pl.col('action_type_id') == 5).group_by(\"user_id\")\n",
    "        .agg(\n",
    "            pl.col(\"timestamp\").max().alias(\"last_to_cart_ts\"),\n",
    "            to_cart_last_month=pl.col(\"timestamp\")\n",
    "                .filter(pl.col(\"timestamp\") >= val_end_date - timedelta(days=30))\n",
    "                .count() > 0,\n",
    "            to_cart_last_2months=pl.col(\"timestamp\")\n",
    "                .filter(pl.col(\"timestamp\") >= val_end_date - timedelta(days=30 * 2))\n",
    "                .count() > 0,\n",
    "            to_cart_last_3months=pl.col(\"timestamp\")\n",
    "                .filter(pl.col(\"timestamp\") >= val_end_date - timedelta(days=30 * 3))\n",
    "                .count() > 0\n",
    "        )\n",
    "    ).drop(\"last_to_cart_ts\"),\n",
    "    on=\"user_id\", how=\"left\"\n",
    ")\n",
    "\n",
    "df = df.with_columns(pl.col(\"to_cart_last_month\").fill_null(False))\n",
    "df = df.with_columns(pl.col(\"to_cart_last_2months\").fill_null(False))\n",
    "df = df.with_columns(pl.col(\"to_cart_last_3months\").fill_null(False))"
   ]
  },
  {
   "cell_type": "markdown",
   "id": "a994636a-8754-43fb-a8a5-f3f6ed82148f",
   "metadata": {},
   "source": [
    "### Топ-k категорий товаров на виды активности"
   ]
  },
  {
   "cell_type": "code",
   "execution_count": 38,
   "id": "012fd395-de72-4f48-af12-5f84a3e7e160",
   "metadata": {},
   "outputs": [
    {
     "data": {
      "application/vnd.jupyter.widget-view+json": {
       "model_id": "d89d438ac6e645619ece09f0494c45b8",
       "version_major": 2,
       "version_minor": 0
      },
      "text/plain": [
       "  0%|          | 0/4 [00:00<?, ?it/s]"
      ]
     },
     "metadata": {},
     "output_type": "display_data"
    }
   ],
   "source": [
    "k = 3\n",
    "actions_id_to_suf = {\n",
    "    1: \"click\",\n",
    "    2: \"favorite\",\n",
    "    3: \"order\",\n",
    "    5: \"to_cart\",\n",
    "}\n",
    "for id_, suf in tqdm(actions_id_to_suf.items()):\n",
    "    df = df.join(\n",
    "        (\n",
    "            actions_history\n",
    "            .filter(pl.col('timestamp').dt.date() <= val_end_date)\n",
    "            .filter(pl.col('timestamp').dt.date() >= val_end_date - timedelta(days=30 * 4))\n",
    "            .filter(pl.col(\"action_type_id\") == id_)\n",
    "            .join(\n",
    "                product_information.select([\"product_id\", \"category_name\"]),\n",
    "                on=\"product_id\",\n",
    "            )\n",
    "            .group_by(\"user_id\", \"category_name\")\n",
    "            .agg(pl.len().alias(\"count\"))\n",
    "            .with_columns(\n",
    "                pl.col(\"category_name\").sort_by(by=[\"count\", \"category_name\"], descending=[True, False])\n",
    "                .over(\"user_id\")\n",
    "                .alias(\"sorted_values\")\n",
    "            )\n",
    "            .group_by(\"user_id\")\n",
    "            .agg(pl.col(\"sorted_values\").head(k).alias(\"top_values\"))\n",
    "            .with_columns(\n",
    "                pl.col(\"top_values\").list.to_struct(fields=[f\"top{i}_cat_in_{suf}\" for i in range(1, k + 1)])\n",
    "            )\n",
    "            .unnest(columns=\"top_values\")\n",
    "        ),\n",
    "        on='user_id', how='left'\n",
    "    )\n",
    "    \n",
    "for col in [col for col in df.columns if col.find(\"cat\") != -1]:\n",
    "    df = df.with_columns(pl.col(col).fill_null(\"\"))"
   ]
  },
  {
   "cell_type": "markdown",
   "id": "bd437394-9683-4ad4-935f-201e294d1b52",
   "metadata": {},
   "source": [
    "### Топ-k типов виджетов на виды активности"
   ]
  },
  {
   "cell_type": "code",
   "execution_count": 39,
   "id": "acf73abe-3a03-4dbc-9038-48c3d6b60a9c",
   "metadata": {},
   "outputs": [
    {
     "data": {
      "application/vnd.jupyter.widget-view+json": {
       "model_id": "5c01e5a402084f7ba38bf4fc5ea421c1",
       "version_major": 2,
       "version_minor": 0
      },
      "text/plain": [
       "  0%|          | 0/3 [00:00<?, ?it/s]"
      ]
     },
     "metadata": {},
     "output_type": "display_data"
    }
   ],
   "source": [
    "actions_id_to_suf = {\n",
    "    1: \"click\",\n",
    "    2: \"favorite\",\n",
    "    # 3: \"order\", так как в заказе только один виджет, нет смысла\n",
    "    5: \"to_cart\",\n",
    "}\n",
    "for id_, suf in tqdm(actions_id_to_suf.items()):\n",
    "    df = df.join(\n",
    "        (\n",
    "            actions_history\n",
    "            .filter(pl.col('timestamp').dt.date() <= val_end_date)\n",
    "            .filter(pl.col('timestamp').dt.date() >= val_end_date - timedelta(days=30 * 4))\n",
    "            .filter(pl.col(\"action_type_id\") == id_)\n",
    "            .group_by(\"user_id\", \"widget_name_id\")\n",
    "            .agg(pl.len().alias(\"count\"))\n",
    "            .with_columns(\n",
    "                pl.col(\"widget_name_id\").sort_by(by=[\"count\", \"widget_name_id\"], descending=[True, False])\n",
    "                .over(\"user_id\")\n",
    "                .alias(\"sorted_values\")\n",
    "            )\n",
    "            .group_by(\"user_id\")\n",
    "            .agg(pl.col(\"sorted_values\").head(k).alias(\"top_values\"))\n",
    "            .with_columns(\n",
    "                pl.col(\"top_values\").list.to_struct(fields=[f\"top{i}_widget_in_{suf}\" for i in range(1, k + 1)])\n",
    "            )\n",
    "            .unnest(columns=\"top_values\")\n",
    "        ),\n",
    "        on='user_id', how='left'\n",
    "    )\n",
    "\n",
    "df = df.join(\n",
    "        (\n",
    "        search_history\n",
    "        .filter(pl.col('timestamp').dt.date() <= val_end_date)\n",
    "        .filter(pl.col('timestamp').dt.date() >= val_end_date - timedelta(days=30 * 4))\n",
    "        .filter(pl.col(\"action_type_id\") == 4)\n",
    "        .group_by(\"user_id\", \"widget_name_id\")\n",
    "        .agg(pl.len().alias(\"count\"))\n",
    "        .with_columns(\n",
    "            pl.col(\"widget_name_id\").sort_by(by=[\"count\", \"widget_name_id\"], descending=[True, False])\n",
    "            .over(\"user_id\")\n",
    "            .alias(\"sorted_values\")\n",
    "        )\n",
    "        .group_by(\"user_id\")\n",
    "        .agg(pl.col(\"sorted_values\").head(k).alias(\"top_values\"))\n",
    "        .with_columns(\n",
    "            pl.col(\"top_values\").list.to_struct(fields=[f\"top{i}_widget_in_search\" for i in range(1, k + 1)])\n",
    "        ).unnest(columns=\"top_values\")\n",
    "    ),\n",
    "    on='user_id', how='left'\n",
    ")\n",
    "\n",
    "for col in [col for col in df.columns if col.find(\"widget\") != -1]:\n",
    "    df = df.with_columns(pl.col(col).fill_null(0))"
   ]
  },
  {
   "cell_type": "code",
   "execution_count": 40,
   "id": "d08f588f",
   "metadata": {},
   "outputs": [],
   "source": [
    "df_pd = df.to_pandas()"
   ]
  },
  {
   "cell_type": "code",
   "execution_count": 41,
   "id": "3b68cce8",
   "metadata": {},
   "outputs": [
    {
     "data": {
      "text/plain": [
       "(2068424, 177)"
      ]
     },
     "execution_count": 41,
     "metadata": {},
     "output_type": "execute_result"
    }
   ],
   "source": [
    "df_pd.shape"
   ]
  },
  {
   "cell_type": "code",
   "execution_count": null,
   "id": "ade7e096-f64e-43b2-9eb7-9ad399ec7217",
   "metadata": {},
   "outputs": [],
   "source": [
    "df_pd['predict'] = model.predict(df_pd[cols], prediction_type=\"Probability\")[:, 1]"
   ]
  },
  {
   "cell_type": "raw",
   "id": "b1332462-bba4-47a0-a93d-2e9ca0a95605",
   "metadata": {},
   "source": [
    "for col in cat_features:\n",
    "    df_pd[col] = df_pd[col].astype('category')"
   ]
  },
  {
   "cell_type": "raw",
   "id": "78bcebf5-e152-4b5e-8737-1c186e085be6",
   "metadata": {},
   "source": [
    "df_pd['predict_gbm'] = model.predict(df_pd[cols])"
   ]
  },
  {
   "cell_type": "code",
   "execution_count": 45,
   "id": "ad82a799",
   "metadata": {},
   "outputs": [
    {
     "data": {
      "text/html": [
       "<div>\n",
       "<style scoped>\n",
       "    .dataframe tbody tr th:only-of-type {\n",
       "        vertical-align: middle;\n",
       "    }\n",
       "\n",
       "    .dataframe tbody tr th {\n",
       "        vertical-align: top;\n",
       "    }\n",
       "\n",
       "    .dataframe thead th {\n",
       "        text-align: right;\n",
       "    }\n",
       "</style>\n",
       "<table border=\"1\" class=\"dataframe\">\n",
       "  <thead>\n",
       "    <tr style=\"text-align: right;\">\n",
       "      <th></th>\n",
       "      <th>user_id</th>\n",
       "      <th>predict_gbm</th>\n",
       "    </tr>\n",
       "  </thead>\n",
       "  <tbody>\n",
       "    <tr>\n",
       "      <th>0</th>\n",
       "      <td>1342</td>\n",
       "      <td>0.179478</td>\n",
       "    </tr>\n",
       "    <tr>\n",
       "      <th>1</th>\n",
       "      <td>9852</td>\n",
       "      <td>0.740126</td>\n",
       "    </tr>\n",
       "    <tr>\n",
       "      <th>2</th>\n",
       "      <td>10206</td>\n",
       "      <td>0.215897</td>\n",
       "    </tr>\n",
       "    <tr>\n",
       "      <th>3</th>\n",
       "      <td>11317</td>\n",
       "      <td>0.216043</td>\n",
       "    </tr>\n",
       "    <tr>\n",
       "      <th>4</th>\n",
       "      <td>13289</td>\n",
       "      <td>0.514379</td>\n",
       "    </tr>\n",
       "    <tr>\n",
       "      <th>...</th>\n",
       "      <td>...</td>\n",
       "      <td>...</td>\n",
       "    </tr>\n",
       "    <tr>\n",
       "      <th>2068419</th>\n",
       "      <td>11157283</td>\n",
       "      <td>0.224369</td>\n",
       "    </tr>\n",
       "    <tr>\n",
       "      <th>2068420</th>\n",
       "      <td>11160395</td>\n",
       "      <td>0.112995</td>\n",
       "    </tr>\n",
       "    <tr>\n",
       "      <th>2068421</th>\n",
       "      <td>11165052</td>\n",
       "      <td>0.590553</td>\n",
       "    </tr>\n",
       "    <tr>\n",
       "      <th>2068422</th>\n",
       "      <td>11168218</td>\n",
       "      <td>0.554029</td>\n",
       "    </tr>\n",
       "    <tr>\n",
       "      <th>2068423</th>\n",
       "      <td>11172313</td>\n",
       "      <td>0.520047</td>\n",
       "    </tr>\n",
       "  </tbody>\n",
       "</table>\n",
       "<p>2068424 rows × 2 columns</p>\n",
       "</div>"
      ],
      "text/plain": [
       "          user_id  predict_gbm\n",
       "0            1342     0.179478\n",
       "1            9852     0.740126\n",
       "2           10206     0.215897\n",
       "3           11317     0.216043\n",
       "4           13289     0.514379\n",
       "...           ...          ...\n",
       "2068419  11157283     0.224369\n",
       "2068420  11160395     0.112995\n",
       "2068421  11165052     0.590553\n",
       "2068422  11168218     0.554029\n",
       "2068423  11172313     0.520047\n",
       "\n",
       "[2068424 rows x 2 columns]"
      ]
     },
     "execution_count": 45,
     "metadata": {},
     "output_type": "execute_result"
    }
   ],
   "source": [
    "df_pd[['user_id', 'predict']]"
   ]
  },
  {
   "cell_type": "code",
   "execution_count": 46,
   "id": "a756e7da",
   "metadata": {},
   "outputs": [],
   "source": [
    "df_pd[['user_id', 'predict']].to_csv('new_try.csv', index=False)"
   ]
  },
  {
   "cell_type": "code",
   "execution_count": 47,
   "id": "a74f5ad1",
   "metadata": {},
   "outputs": [
    {
     "data": {
      "text/plain": [
       "1788.6023750305176"
      ]
     },
     "execution_count": 47,
     "metadata": {},
     "output_type": "execute_result"
    }
   ],
   "source": [
    "df_pd.memory_usage(deep=True).sum() / 1024**2"
   ]
  },
  {
   "cell_type": "code",
   "execution_count": 48,
   "id": "1974010d-10d2-496f-8526-9ed349c61862",
   "metadata": {},
   "outputs": [
    {
     "data": {
      "text/plain": [
       "176"
      ]
     },
     "execution_count": 48,
     "metadata": {},
     "output_type": "execute_result"
    }
   ],
   "source": [
    "len(train_data.get_feature_name())"
   ]
  },
  {
   "cell_type": "code",
   "execution_count": null,
   "id": "75776ba3-df70-44fe-8603-a7621b19518a",
   "metadata": {},
   "outputs": [],
   "source": []
  }
 ],
 "metadata": {
  "kernelspec": {
   "display_name": "Python 3.12",
   "language": "python",
   "name": "python312"
  },
  "language_info": {
   "codemirror_mode": {
    "name": "ipython",
    "version": 3
   },
   "file_extension": ".py",
   "mimetype": "text/x-python",
   "name": "python",
   "nbconvert_exporter": "python",
   "pygments_lexer": "ipython3",
   "version": "3.12.9"
  }
 },
 "nbformat": 4,
 "nbformat_minor": 5
}
